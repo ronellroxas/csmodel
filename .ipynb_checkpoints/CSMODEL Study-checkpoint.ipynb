{
 "cells": [
  {
   "cell_type": "markdown",
   "metadata": {},
   "source": [
    "# Case Study on Steam Store Games Dataset\n",
    "This notebook explores the Steam Store Games datasend found on [Kaggle](https://www.kaggle.com/nikdavis/steam-store-games?select=steam.csv). This notebook performs Exploratory Data Analysis on the dataset.\n",
    "\n",
    "#### CSMODEL - S14\n",
    "\n",
    "#### Team Members\n",
    "- Roxas, Ronell John\n",
    "- Oliquino, Alfred\n",
    "- Tiburcio, Marc Nelsito\n",
    "\n",
    "#### Professor\n",
    "- Tiam-Lee, Thomas James\n",
    "\n",
    "#### Date Submitted \n",
    "- September 23 2020"
   ]
  },
  {
   "cell_type": "markdown",
   "metadata": {},
   "source": [
    "## 1. Data Description\n",
    "The Steam Store Games dataset was directly extracted from Steam using the Steam API, specifically SteamSpy. The API is provided by Valve, the owners of Steam [(Nick-Davis, 2019)](https://nik-davis.github.io/posts/2019/steam-data-collection/). "
   ]
  },
  {
   "cell_type": "markdown",
   "metadata": {},
   "source": [
    "The main benefit of using this API is that the data will come directly from the software or company's database. This means that the data will be accurate and up to date depending on when the data was extracted."
   ]
  },
  {
   "cell_type": "markdown",
   "metadata": {},
   "source": [
    "The main complication with this method is that some of the information or columns in the dataset are not directly usable and needs to be cleaned or translated before using the dataset. The main example of this is the `platforms`, `categories`, and `genres` columns. These columns contain multiple values in one entry of the data or an array of values. Though it is possible to work with this, it is more common and proper to split these values into their own columns. Another example is the `owners` column that contains the range of the number of users rather than extracting the actual number of users itself."
   ]
  },
  {
   "cell_type": "markdown",
   "metadata": {},
   "source": [
    "## 2. Exploratory Data Analysis\n",
    "Importing the libraries."
   ]
  },
  {
   "cell_type": "code",
   "execution_count": 2,
   "metadata": {},
   "outputs": [],
   "source": [
    "import numpy as np\n",
    "import pandas as pd\n",
    "import matplotlib.pyplot as plt\n",
    "%load_ext autoreload\n",
    "%autoreload 2\n"
   ]
  },
  {
   "cell_type": "markdown",
   "metadata": {},
   "source": [
    "Importing the dataset."
   ]
  },
  {
   "cell_type": "code",
   "execution_count": 3,
   "metadata": {},
   "outputs": [],
   "source": [
    "steam_df = pd.read_csv(\"dataset/steam.csv\")"
   ]
  },
  {
   "cell_type": "markdown",
   "metadata": {},
   "source": [
    "Checking the general information of the dataset."
   ]
  },
  {
   "cell_type": "code",
   "execution_count": 4,
   "metadata": {},
   "outputs": [
    {
     "name": "stdout",
     "output_type": "stream",
     "text": [
      "<class 'pandas.core.frame.DataFrame'>\n",
      "RangeIndex: 27075 entries, 0 to 27074\n",
      "Data columns (total 18 columns):\n",
      " #   Column            Non-Null Count  Dtype  \n",
      "---  ------            --------------  -----  \n",
      " 0   appid             27075 non-null  int64  \n",
      " 1   name              27075 non-null  object \n",
      " 2   release_date      27075 non-null  object \n",
      " 3   english           27075 non-null  int64  \n",
      " 4   developer         27075 non-null  object \n",
      " 5   publisher         27075 non-null  object \n",
      " 6   platforms         27075 non-null  object \n",
      " 7   required_age      27075 non-null  int64  \n",
      " 8   categories        27075 non-null  object \n",
      " 9   genres            27075 non-null  object \n",
      " 10  steamspy_tags     27075 non-null  object \n",
      " 11  achievements      27075 non-null  int64  \n",
      " 12  positive_ratings  27075 non-null  int64  \n",
      " 13  negative_ratings  27075 non-null  int64  \n",
      " 14  average_playtime  27075 non-null  int64  \n",
      " 15  median_playtime   27075 non-null  int64  \n",
      " 16  owners            27075 non-null  object \n",
      " 17  price             27075 non-null  float64\n",
      "dtypes: float64(1), int64(8), object(9)\n",
      "memory usage: 3.7+ MB\n"
     ]
    }
   ],
   "source": [
    "steam_df.info()"
   ]
  },
  {
   "cell_type": "code",
   "execution_count": 5,
   "metadata": {},
   "outputs": [],
   "source": [
    "steam_tag_df = pd.read_csv(\"dataset/steamspy_tag_data.csv\")"
   ]
  },
  {
   "cell_type": "markdown",
   "metadata": {},
   "source": [
    "Checking the tag dataset"
   ]
  },
  {
   "cell_type": "code",
   "execution_count": 6,
   "metadata": {},
   "outputs": [
    {
     "name": "stdout",
     "output_type": "stream",
     "text": [
      "<class 'pandas.core.frame.DataFrame'>\n",
      "RangeIndex: 29022 entries, 0 to 29021\n",
      "Columns: 372 entries, appid to e_sports\n",
      "dtypes: int64(372)\n",
      "memory usage: 82.4 MB\n"
     ]
    }
   ],
   "source": [
    "steam_tag_df.info()"
   ]
  },
  {
   "cell_type": "markdown",
   "metadata": {},
   "source": [
    "### 2.1 Cleaning the Dataset\n",
    "This section will verify if the dataset contains any errors in the values. Some error include null values or invalid values each column."
   ]
  },
  {
   "cell_type": "markdown",
   "metadata": {},
   "source": [
    "Checking for null values."
   ]
  },
  {
   "cell_type": "code",
   "execution_count": 7,
   "metadata": {},
   "outputs": [
    {
     "data": {
      "text/plain": [
       "appid               False\n",
       "name                False\n",
       "release_date        False\n",
       "english             False\n",
       "developer           False\n",
       "publisher           False\n",
       "platforms           False\n",
       "required_age        False\n",
       "categories          False\n",
       "genres              False\n",
       "steamspy_tags       False\n",
       "achievements        False\n",
       "positive_ratings    False\n",
       "negative_ratings    False\n",
       "average_playtime    False\n",
       "median_playtime     False\n",
       "owners              False\n",
       "price               False\n",
       "dtype: bool"
      ]
     },
     "execution_count": 7,
     "metadata": {},
     "output_type": "execute_result"
    }
   ],
   "source": [
    "steam_df.isnull().any()"
   ]
  },
  {
   "cell_type": "markdown",
   "metadata": {},
   "source": [
    "There are no null values in the dataset. Now, we verify if the values in each column is valid.\n",
    "One benefit of doing this is to see if there are multiple unique entries that are similar and can be mapped or represented to a single representation for the entry. Another is to verify if there are invalid entries that are not in the valid range for the specific column."
   ]
  },
  {
   "cell_type": "code",
   "execution_count": 8,
   "metadata": {},
   "outputs": [
    {
     "data": {
      "text/plain": [
       "0"
      ]
     },
     "execution_count": 8,
     "metadata": {},
     "output_type": "execute_result"
    }
   ],
   "source": [
    "##steam_df['appid'].value_counts().apply(lambda x: x > 1).isin([True]).any()\n",
    "len(steam_df[steam_df.duplicated()])"
   ]
  },
  {
   "cell_type": "markdown",
   "metadata": {},
   "source": [
    "The code above verifies if there are any duplicates in the dataset. The code inside the len() function returns the duplicated entries in the dataset. Since it has 0 length, there are no duplicated entries in the dataset."
   ]
  },
  {
   "cell_type": "markdown",
   "metadata": {},
   "source": [
    "We can also adjust to code to verify if there are duplicates in columns that should only contain unique values, like `appid`."
   ]
  },
  {
   "cell_type": "code",
   "execution_count": 9,
   "metadata": {},
   "outputs": [
    {
     "data": {
      "text/plain": [
       "0"
      ]
     },
     "execution_count": 9,
     "metadata": {},
     "output_type": "execute_result"
    }
   ],
   "source": [
    "len(steam_df[steam_df['appid'].duplicated()])"
   ]
  },
  {
   "cell_type": "markdown",
   "metadata": {},
   "source": [
    "For the `release_date` column, we can verify if the values are within a valid range using the min() and max() functions."
   ]
  },
  {
   "cell_type": "code",
   "execution_count": 10,
   "metadata": {},
   "outputs": [
    {
     "name": "stdout",
     "output_type": "stream",
     "text": [
      "1997-06-30 to 2019-05-01\n"
     ]
    }
   ],
   "source": [
    "print(steam_df['release_date'].min() + \" to \" + steam_df['release_date'].max())"
   ]
  },
  {
   "cell_type": "markdown",
   "metadata": {},
   "source": [
    "After running the code above, it shows that the dates are within a valid range. None of it were released in the future."
   ]
  },
  {
   "cell_type": "markdown",
   "metadata": {},
   "source": [
    "The `english` column represents if the game is on english or not. This means the valid values in this column are boolean values. We can verify this using the unique() function."
   ]
  },
  {
   "cell_type": "code",
   "execution_count": 11,
   "metadata": {},
   "outputs": [
    {
     "data": {
      "text/plain": [
       "array([1, 0], dtype=int64)"
      ]
     },
     "execution_count": 11,
     "metadata": {},
     "output_type": "execute_result"
    }
   ],
   "source": [
    "steam_df['english'].unique()"
   ]
  },
  {
   "cell_type": "markdown",
   "metadata": {},
   "source": [
    "Since the code above returned 2 valid boolean values, the `english` column is clean as well."
   ]
  },
  {
   "cell_type": "markdown",
   "metadata": {},
   "source": [
    "For the `required_age` column, it should fit within a specific range as well."
   ]
  },
  {
   "cell_type": "code",
   "execution_count": 12,
   "metadata": {},
   "outputs": [
    {
     "data": {
      "text/plain": [
       "array([ 0, 18, 16, 12,  7,  3], dtype=int64)"
      ]
     },
     "execution_count": 12,
     "metadata": {},
     "output_type": "execute_result"
    }
   ],
   "source": [
    "steam_df['required_age'].unique()"
   ]
  },
  {
   "cell_type": "markdown",
   "metadata": {},
   "source": [
    "After running the code above, the values in the `required_age` column are valid. The 0 represents games that does not have any age restrictions."
   ]
  },
  {
   "cell_type": "markdown",
   "metadata": {},
   "source": [
    "For the `achievements` column, valid values should fit in a range that is 0 and above."
   ]
  },
  {
   "cell_type": "code",
   "execution_count": 13,
   "metadata": {},
   "outputs": [
    {
     "name": "stdout",
     "output_type": "stream",
     "text": [
      "0 to 9821\n"
     ]
    }
   ],
   "source": [
    "print(str(steam_df['achievements'].min()) + \" to \" + str(steam_df['achievements'].max()))"
   ]
  },
  {
   "cell_type": "markdown",
   "metadata": {},
   "source": [
    "The range above fits the `achievements` column. It means that the most steam achievements in a game is 9821."
   ]
  },
  {
   "cell_type": "markdown",
   "metadata": {},
   "source": [
    "The `positive_ratings`, `negative_ratings`, `average_playtime`, `median_playtime`, and `price` values must be within the range of 0 and above. Getting the upper limit is not necessary, since we know that the upper limit can be very high. This means we can just check if any of the columns have negative values."
   ]
  },
  {
   "cell_type": "code",
   "execution_count": 14,
   "metadata": {},
   "outputs": [
    {
     "data": {
      "text/plain": [
       "False"
      ]
     },
     "execution_count": 14,
     "metadata": {},
     "output_type": "execute_result"
    }
   ],
   "source": [
    "any((steam_df['positive_ratings'] < 0) & (steam_df['negative_ratings'] < 0) & (steam_df['average_playtime'] < 0) & (steam_df['median_playtime'] < 0) & (steam_df['price'] < 0))"
   ]
  },
  {
   "cell_type": "markdown",
   "metadata": {},
   "source": [
    "The code above checks for any negative values in the 5 columns, it returned False indicating that the values in these columns are valid."
   ]
  },
  {
   "cell_type": "markdown",
   "metadata": {},
   "source": [
    "The columns `name`, `developer`, `publisher`, `platforms`, `categories`, `genres`, and `steamspy_tags` can be left alone since we already checked for null values. The values in this columns can be duplicated multiple times as well so there is no need to verify. "
   ]
  },
  {
   "cell_type": "markdown",
   "metadata": {},
   "source": [
    "For the tag dataset, we want to verify none of the values are null: "
   ]
  },
  {
   "cell_type": "code",
   "execution_count": 15,
   "metadata": {},
   "outputs": [
    {
     "data": {
      "text/plain": [
       "appid           False\n",
       "1980s           False\n",
       "1990s           False\n",
       "2.5d            False\n",
       "2d              False\n",
       "                ...  \n",
       "world_war_i     False\n",
       "world_war_ii    False\n",
       "wrestling       False\n",
       "zombies         False\n",
       "e_sports        False\n",
       "Length: 372, dtype: bool"
      ]
     },
     "execution_count": 15,
     "metadata": {},
     "output_type": "execute_result"
    }
   ],
   "source": [
    "steam_tag_df.isnull().any()"
   ]
  },
  {
   "cell_type": "markdown",
   "metadata": {},
   "source": [
    "There are no null values, which is good. We also want to verify if none of the `appid`s are duplicated:"
   ]
  },
  {
   "cell_type": "code",
   "execution_count": 16,
   "metadata": {},
   "outputs": [
    {
     "data": {
      "text/plain": [
       "0"
      ]
     },
     "execution_count": 16,
     "metadata": {},
     "output_type": "execute_result"
    }
   ],
   "source": [
    "len(steam_tag_df[steam_tag_df['appid'].duplicated()])"
   ]
  },
  {
   "cell_type": "markdown",
   "metadata": {},
   "source": [
    "There are no duplicated `appid`s."
   ]
  },
  {
   "cell_type": "markdown",
   "metadata": {},
   "source": [
    "For the tag dataset, we want to verify if the tag numbers are valid. This means that no value should be negative."
   ]
  },
  {
   "cell_type": "code",
   "execution_count": 17,
   "metadata": {},
   "outputs": [
    {
     "name": "stdout",
     "output_type": "stream",
     "text": [
      "0 to 25176\n"
     ]
    }
   ],
   "source": [
    "temp_df = steam_tag_df.drop('appid', axis=1)\n",
    "print(str(temp_df.min().min()) + \" to \" + str(temp_df.max().max()))"
   ]
  },
  {
   "cell_type": "markdown",
   "metadata": {},
   "source": [
    "None of the values are negative."
   ]
  },
  {
   "cell_type": "markdown",
   "metadata": {},
   "source": [
    "To make table lookups faster, both tables will have selected an index column. The column `appid` makes sense as it identifies the game."
   ]
  },
  {
   "cell_type": "code",
   "execution_count": 18,
   "metadata": {},
   "outputs": [],
   "source": [
    "steam_df = steam_df.set_index('appid')\n",
    "steam_tag_df = steam_tag_df.set_index('appid')"
   ]
  },
  {
   "cell_type": "code",
   "execution_count": 19,
   "metadata": {},
   "outputs": [],
   "source": [
    "diff = steam_tag_df.index.difference(steam_df.index)\n",
    "steam_tag_df = steam_tag_df.drop(diff)"
   ]
  },
  {
   "cell_type": "markdown",
   "metadata": {},
   "source": [
    "The exploratory questions that this notebook will explore uses the `genres` column. The current data sets formats the `genres` using a String representing multiple entries separated by `;`. We can expand this column to represent each genre using 0 or 1 to make it easier to use the dataset."
   ]
  },
  {
   "cell_type": "markdown",
   "metadata": {},
   "source": [
    "If we extract the genres in the dataset as seen below:"
   ]
  },
  {
   "cell_type": "code",
   "execution_count": 20,
   "metadata": {},
   "outputs": [
    {
     "data": {
      "text/plain": [
       "['Action',\n",
       " 'Free to Play',\n",
       " 'Strategy',\n",
       " 'Adventure',\n",
       " 'Indie',\n",
       " 'RPG',\n",
       " 'Animation & Modeling',\n",
       " 'Video Production',\n",
       " 'Casual',\n",
       " 'Simulation',\n",
       " 'Racing',\n",
       " 'Violent',\n",
       " 'Massively Multiplayer',\n",
       " 'Nudity',\n",
       " 'Sports',\n",
       " 'Early Access',\n",
       " 'Gore',\n",
       " 'Utilities',\n",
       " 'Design & Illustration',\n",
       " 'Web Publishing',\n",
       " 'Education',\n",
       " 'Software Training',\n",
       " 'Sexual Content',\n",
       " 'Audio Production',\n",
       " 'Game Development',\n",
       " 'Photo Editing',\n",
       " 'Accounting',\n",
       " 'Documentary',\n",
       " 'Tutorial']"
      ]
     },
     "execution_count": 20,
     "metadata": {},
     "output_type": "execute_result"
    }
   ],
   "source": [
    "genres = []\n",
    "for entry in steam_df['genres']:\n",
    "    entry_split = entry.split(';')\n",
    "    for genre in entry_split:\n",
    "        if genre not in genres:\n",
    "            genres.append(genre)\n",
    "genres"
   ]
  },
  {
   "cell_type": "markdown",
   "metadata": {},
   "source": [
    "We can count the steam games that contain that genre, as seen below:"
   ]
  },
  {
   "cell_type": "code",
   "execution_count": 21,
   "metadata": {},
   "outputs": [
    {
     "name": "stderr",
     "output_type": "stream",
     "text": [
      "C:\\Users\\User\\anaconda3\\lib\\site-packages\\ipykernel_launcher.py:1: DeprecationWarning: The default dtype for empty Series will be 'object' instead of 'float64' in a future version. Specify a dtype explicitly to silence this warning.\n",
      "  \"\"\"Entry point for launching an IPython kernel.\n"
     ]
    },
    {
     "data": {
      "text/plain": [
       "Action                   11903.0\n",
       "Free to Play              1704.0\n",
       "Strategy                  5247.0\n",
       "Adventure                10032.0\n",
       "Indie                    19421.0\n",
       "RPG                       4311.0\n",
       "Animation & Modeling        79.0\n",
       "Video Production            38.0\n",
       "Casual                   10210.0\n",
       "Simulation                5194.0\n",
       "Racing                    1024.0\n",
       "Violent                    843.0\n",
       "Massively Multiplayer      723.0\n",
       "Nudity                     266.0\n",
       "Sports                    1322.0\n",
       "Early Access              2954.0\n",
       "Gore                       537.0\n",
       "Utilities                  146.0\n",
       "Design & Illustration       87.0\n",
       "Web Publishing              28.0\n",
       "Education                   51.0\n",
       "Software Training           31.0\n",
       "Sexual Content             245.0\n",
       "Audio Production            29.0\n",
       "Game Development            17.0\n",
       "Photo Editing               12.0\n",
       "Accounting                   6.0\n",
       "Documentary                  1.0\n",
       "Tutorial                     1.0\n",
       "dtype: float64"
      ]
     },
     "execution_count": 21,
     "metadata": {},
     "output_type": "execute_result"
    }
   ],
   "source": [
    "genre_count = pd.Series(index = genres)\n",
    "for i in range(len(genres)):\n",
    "    sum = 0\n",
    "    for entry in steam_df['genres']:\n",
    "        if entry.find(genres[i]) >= 0:\n",
    "            sum += 1\n",
    "    genre_count[i] = sum\n",
    "genre_count"
   ]
  },
  {
   "cell_type": "code",
   "execution_count": 22,
   "metadata": {},
   "outputs": [
    {
     "data": {
      "text/plain": [
       "Text(0.5, 1.0, 'Bar plot of number of games released in the genre')"
      ]
     },
     "execution_count": 22,
     "metadata": {},
     "output_type": "execute_result"
    },
    {
     "data": {
      "image/png": "[encoded data removed]",
      "text/plain": [
       "<Figure size 432x288 with 1 Axes>"
      ]
     },
     "metadata": {
      "needs_background": "light"
     },
     "output_type": "display_data"
    }
   ],
   "source": [
    "genre_count.plot.bar()\n",
    "plt.xlabel('Genre')\n",
    "plt.ylabel('Count')\n",
    "plt.title('Bar plot of number of games released in the genre')"
   ]
  },
  {
   "cell_type": "markdown",
   "metadata": {},
   "source": [
    "As seen from the results above, there are some genres that are low in numbers. This means that we can drop the some genres, and choose to work with only the top genres, which will not affect any further analysis. For this notebook, we will choose the top genres as seen above, and the current steam genre recommendations on the steam page. This includes `Action`, `Adventure`, `Casual`, `Indie`, `Massive Multiplayer`, `Racing`, `RPG`, `Simulation`, `Sports`, and `Strategy`."
   ]
  },
  {
   "cell_type": "code",
   "execution_count": 23,
   "metadata": {},
   "outputs": [],
   "source": [
    "# name of the top genres that will be the columns containing binary values\n",
    "# based on top genre results above and steam page recommended genres\n",
    "top_cols = ['Action','Adventure','Casual','Indie','Massively Multiplayer','Racing', 'RPG','Simulation','Sports','Strategy']\n",
    "top_names = []\n",
    "\n",
    "# append column to steam_df and determine if value is 0 or 1 based on genres column\n",
    "for col in sorted(top_cols):\n",
    "    col_name = col.lower().replace('&', 'and').replace(' ', '_')\n",
    "    top_names.append(col_name)\n",
    "    steam_df[col_name] = steam_df['genres'].apply(lambda x: 1 if col in x.split(';') else 0)"
   ]
  },
  {
   "cell_type": "markdown",
   "metadata": {},
   "source": [
    "After running the code above, it creates new columns representing each of the top genres into the steam_df. Each genre is represented with either 0 or 1. 0 if the game does not contain the genre, and 1 if it does."
   ]
  },
  {
   "cell_type": "code",
   "execution_count": 24,
   "metadata": {},
   "outputs": [
    {
     "data": {
      "text/html": [
       "<div>\n",
       "<style scoped>\n",
       "    .dataframe tbody tr th:only-of-type {\n",
       "        vertical-align: middle;\n",
       "    }\n",
       "\n",
       "    .dataframe tbody tr th {\n",
       "        vertical-align: top;\n",
       "    }\n",
       "\n",
       "    .dataframe thead th {\n",
       "        text-align: right;\n",
       "    }\n",
       "</style>\n",
       "<table border=\"1\" class=\"dataframe\">\n",
       "  <thead>\n",
       "    <tr style=\"text-align: right;\">\n",
       "      <th></th>\n",
       "      <th>name</th>\n",
       "      <th>release_date</th>\n",
       "      <th>english</th>\n",
       "      <th>developer</th>\n",
       "      <th>publisher</th>\n",
       "      <th>platforms</th>\n",
       "      <th>required_age</th>\n",
       "      <th>categories</th>\n",
       "      <th>genres</th>\n",
       "      <th>steamspy_tags</th>\n",
       "      <th>...</th>\n",
       "      <th>action</th>\n",
       "      <th>adventure</th>\n",
       "      <th>casual</th>\n",
       "      <th>indie</th>\n",
       "      <th>massively_multiplayer</th>\n",
       "      <th>rpg</th>\n",
       "      <th>racing</th>\n",
       "      <th>simulation</th>\n",
       "      <th>sports</th>\n",
       "      <th>strategy</th>\n",
       "    </tr>\n",
       "    <tr>\n",
       "      <th>appid</th>\n",
       "      <th></th>\n",
       "      <th></th>\n",
       "      <th></th>\n",
       "      <th></th>\n",
       "      <th></th>\n",
       "      <th></th>\n",
       "      <th></th>\n",
       "      <th></th>\n",
       "      <th></th>\n",
       "      <th></th>\n",
       "      <th></th>\n",
       "      <th></th>\n",
       "      <th></th>\n",
       "      <th></th>\n",
       "      <th></th>\n",
       "      <th></th>\n",
       "      <th></th>\n",
       "      <th></th>\n",
       "      <th></th>\n",
       "      <th></th>\n",
       "      <th></th>\n",
       "    </tr>\n",
       "  </thead>\n",
       "  <tbody>\n",
       "    <tr>\n",
       "      <th>10</th>\n",
       "      <td>Counter-Strike</td>\n",
       "      <td>2000-11-01</td>\n",
       "      <td>1</td>\n",
       "      <td>Valve</td>\n",
       "      <td>Valve</td>\n",
       "      <td>windows;mac;linux</td>\n",
       "      <td>0</td>\n",
       "      <td>Multi-player;Online Multi-Player;Local Multi-P...</td>\n",
       "      <td>Action</td>\n",
       "      <td>Action;FPS;Multiplayer</td>\n",
       "      <td>...</td>\n",
       "      <td>1</td>\n",
       "      <td>0</td>\n",
       "      <td>0</td>\n",
       "      <td>0</td>\n",
       "      <td>0</td>\n",
       "      <td>0</td>\n",
       "      <td>0</td>\n",
       "      <td>0</td>\n",
       "      <td>0</td>\n",
       "      <td>0</td>\n",
       "    </tr>\n",
       "    <tr>\n",
       "      <th>20</th>\n",
       "      <td>Team Fortress Classic</td>\n",
       "      <td>1999-04-01</td>\n",
       "      <td>1</td>\n",
       "      <td>Valve</td>\n",
       "      <td>Valve</td>\n",
       "      <td>windows;mac;linux</td>\n",
       "      <td>0</td>\n",
       "      <td>Multi-player;Online Multi-Player;Local Multi-P...</td>\n",
       "      <td>Action</td>\n",
       "      <td>Action;FPS;Multiplayer</td>\n",
       "      <td>...</td>\n",
       "      <td>1</td>\n",
       "      <td>0</td>\n",
       "      <td>0</td>\n",
       "      <td>0</td>\n",
       "      <td>0</td>\n",
       "      <td>0</td>\n",
       "      <td>0</td>\n",
       "      <td>0</td>\n",
       "      <td>0</td>\n",
       "      <td>0</td>\n",
       "    </tr>\n",
       "    <tr>\n",
       "      <th>30</th>\n",
       "      <td>Day of Defeat</td>\n",
       "      <td>2003-05-01</td>\n",
       "      <td>1</td>\n",
       "      <td>Valve</td>\n",
       "      <td>Valve</td>\n",
       "      <td>windows;mac;linux</td>\n",
       "      <td>0</td>\n",
       "      <td>Multi-player;Valve Anti-Cheat enabled</td>\n",
       "      <td>Action</td>\n",
       "      <td>FPS;World War II;Multiplayer</td>\n",
       "      <td>...</td>\n",
       "      <td>1</td>\n",
       "      <td>0</td>\n",
       "      <td>0</td>\n",
       "      <td>0</td>\n",
       "      <td>0</td>\n",
       "      <td>0</td>\n",
       "      <td>0</td>\n",
       "      <td>0</td>\n",
       "      <td>0</td>\n",
       "      <td>0</td>\n",
       "    </tr>\n",
       "    <tr>\n",
       "      <th>40</th>\n",
       "      <td>Deathmatch Classic</td>\n",
       "      <td>2001-06-01</td>\n",
       "      <td>1</td>\n",
       "      <td>Valve</td>\n",
       "      <td>Valve</td>\n",
       "      <td>windows;mac;linux</td>\n",
       "      <td>0</td>\n",
       "      <td>Multi-player;Online Multi-Player;Local Multi-P...</td>\n",
       "      <td>Action</td>\n",
       "      <td>Action;FPS;Multiplayer</td>\n",
       "      <td>...</td>\n",
       "      <td>1</td>\n",
       "      <td>0</td>\n",
       "      <td>0</td>\n",
       "      <td>0</td>\n",
       "      <td>0</td>\n",
       "      <td>0</td>\n",
       "      <td>0</td>\n",
       "      <td>0</td>\n",
       "      <td>0</td>\n",
       "      <td>0</td>\n",
       "    </tr>\n",
       "    <tr>\n",
       "      <th>50</th>\n",
       "      <td>Half-Life: Opposing Force</td>\n",
       "      <td>1999-11-01</td>\n",
       "      <td>1</td>\n",
       "      <td>Gearbox Software</td>\n",
       "      <td>Valve</td>\n",
       "      <td>windows;mac;linux</td>\n",
       "      <td>0</td>\n",
       "      <td>Single-player;Multi-player;Valve Anti-Cheat en...</td>\n",
       "      <td>Action</td>\n",
       "      <td>FPS;Action;Sci-fi</td>\n",
       "      <td>...</td>\n",
       "      <td>1</td>\n",
       "      <td>0</td>\n",
       "      <td>0</td>\n",
       "      <td>0</td>\n",
       "      <td>0</td>\n",
       "      <td>0</td>\n",
       "      <td>0</td>\n",
       "      <td>0</td>\n",
       "      <td>0</td>\n",
       "      <td>0</td>\n",
       "    </tr>\n",
       "    <tr>\n",
       "      <th>...</th>\n",
       "      <td>...</td>\n",
       "      <td>...</td>\n",
       "      <td>...</td>\n",
       "      <td>...</td>\n",
       "      <td>...</td>\n",
       "      <td>...</td>\n",
       "      <td>...</td>\n",
       "      <td>...</td>\n",
       "      <td>...</td>\n",
       "      <td>...</td>\n",
       "      <td>...</td>\n",
       "      <td>...</td>\n",
       "      <td>...</td>\n",
       "      <td>...</td>\n",
       "      <td>...</td>\n",
       "      <td>...</td>\n",
       "      <td>...</td>\n",
       "      <td>...</td>\n",
       "      <td>...</td>\n",
       "      <td>...</td>\n",
       "      <td>...</td>\n",
       "    </tr>\n",
       "    <tr>\n",
       "      <th>1065230</th>\n",
       "      <td>Room of Pandora</td>\n",
       "      <td>2019-04-24</td>\n",
       "      <td>1</td>\n",
       "      <td>SHEN JIAWEI</td>\n",
       "      <td>SHEN JIAWEI</td>\n",
       "      <td>windows</td>\n",
       "      <td>0</td>\n",
       "      <td>Single-player;Steam Achievements</td>\n",
       "      <td>Adventure;Casual;Indie</td>\n",
       "      <td>Adventure;Indie;Casual</td>\n",
       "      <td>...</td>\n",
       "      <td>0</td>\n",
       "      <td>1</td>\n",
       "      <td>1</td>\n",
       "      <td>1</td>\n",
       "      <td>0</td>\n",
       "      <td>0</td>\n",
       "      <td>0</td>\n",
       "      <td>0</td>\n",
       "      <td>0</td>\n",
       "      <td>0</td>\n",
       "    </tr>\n",
       "    <tr>\n",
       "      <th>1065570</th>\n",
       "      <td>Cyber Gun</td>\n",
       "      <td>2019-04-23</td>\n",
       "      <td>1</td>\n",
       "      <td>Semyon Maximov</td>\n",
       "      <td>BekkerDev Studio</td>\n",
       "      <td>windows</td>\n",
       "      <td>0</td>\n",
       "      <td>Single-player</td>\n",
       "      <td>Action;Adventure;Indie</td>\n",
       "      <td>Action;Indie;Adventure</td>\n",
       "      <td>...</td>\n",
       "      <td>1</td>\n",
       "      <td>1</td>\n",
       "      <td>0</td>\n",
       "      <td>1</td>\n",
       "      <td>0</td>\n",
       "      <td>0</td>\n",
       "      <td>0</td>\n",
       "      <td>0</td>\n",
       "      <td>0</td>\n",
       "      <td>0</td>\n",
       "    </tr>\n",
       "    <tr>\n",
       "      <th>1065650</th>\n",
       "      <td>Super Star Blast</td>\n",
       "      <td>2019-04-24</td>\n",
       "      <td>1</td>\n",
       "      <td>EntwicklerX</td>\n",
       "      <td>EntwicklerX</td>\n",
       "      <td>windows</td>\n",
       "      <td>0</td>\n",
       "      <td>Single-player;Multi-player;Co-op;Shared/Split ...</td>\n",
       "      <td>Action;Casual;Indie</td>\n",
       "      <td>Action;Indie;Casual</td>\n",
       "      <td>...</td>\n",
       "      <td>1</td>\n",
       "      <td>0</td>\n",
       "      <td>1</td>\n",
       "      <td>1</td>\n",
       "      <td>0</td>\n",
       "      <td>0</td>\n",
       "      <td>0</td>\n",
       "      <td>0</td>\n",
       "      <td>0</td>\n",
       "      <td>0</td>\n",
       "    </tr>\n",
       "    <tr>\n",
       "      <th>1066700</th>\n",
       "      <td>New Yankee 7: Deer Hunters</td>\n",
       "      <td>2019-04-17</td>\n",
       "      <td>1</td>\n",
       "      <td>Yustas Game Studio</td>\n",
       "      <td>Alawar Entertainment</td>\n",
       "      <td>windows;mac</td>\n",
       "      <td>0</td>\n",
       "      <td>Single-player;Steam Cloud</td>\n",
       "      <td>Adventure;Casual;Indie</td>\n",
       "      <td>Indie;Casual;Adventure</td>\n",
       "      <td>...</td>\n",
       "      <td>0</td>\n",
       "      <td>1</td>\n",
       "      <td>1</td>\n",
       "      <td>1</td>\n",
       "      <td>0</td>\n",
       "      <td>0</td>\n",
       "      <td>0</td>\n",
       "      <td>0</td>\n",
       "      <td>0</td>\n",
       "      <td>0</td>\n",
       "    </tr>\n",
       "    <tr>\n",
       "      <th>1069460</th>\n",
       "      <td>Rune Lord</td>\n",
       "      <td>2019-04-24</td>\n",
       "      <td>1</td>\n",
       "      <td>Adept Studios GD</td>\n",
       "      <td>Alawar Entertainment</td>\n",
       "      <td>windows;mac</td>\n",
       "      <td>0</td>\n",
       "      <td>Single-player;Steam Cloud</td>\n",
       "      <td>Adventure;Casual;Indie</td>\n",
       "      <td>Indie;Casual;Adventure</td>\n",
       "      <td>...</td>\n",
       "      <td>0</td>\n",
       "      <td>1</td>\n",
       "      <td>1</td>\n",
       "      <td>1</td>\n",
       "      <td>0</td>\n",
       "      <td>0</td>\n",
       "      <td>0</td>\n",
       "      <td>0</td>\n",
       "      <td>0</td>\n",
       "      <td>0</td>\n",
       "    </tr>\n",
       "  </tbody>\n",
       "</table>\n",
       "<p>27075 rows × 27 columns</p>\n",
       "</div>"
      ],
      "text/plain": [
       "                               name release_date  english           developer  \\\n",
       "appid                                                                           \n",
       "10                   Counter-Strike   2000-11-01        1               Valve   \n",
       "20            Team Fortress Classic   1999-04-01        1               Valve   \n",
       "30                    Day of Defeat   2003-05-01        1               Valve   \n",
       "40               Deathmatch Classic   2001-06-01        1               Valve   \n",
       "50        Half-Life: Opposing Force   1999-11-01        1    Gearbox Software   \n",
       "...                             ...          ...      ...                 ...   \n",
       "1065230             Room of Pandora   2019-04-24        1         SHEN JIAWEI   \n",
       "1065570                   Cyber Gun   2019-04-23        1      Semyon Maximov   \n",
       "1065650            Super Star Blast   2019-04-24        1         EntwicklerX   \n",
       "1066700  New Yankee 7: Deer Hunters   2019-04-17        1  Yustas Game Studio   \n",
       "1069460                   Rune Lord   2019-04-24        1    Adept Studios GD   \n",
       "\n",
       "                    publisher          platforms  required_age  \\\n",
       "appid                                                            \n",
       "10                      Valve  windows;mac;linux             0   \n",
       "20                      Valve  windows;mac;linux             0   \n",
       "30                      Valve  windows;mac;linux             0   \n",
       "40                      Valve  windows;mac;linux             0   \n",
       "50                      Valve  windows;mac;linux             0   \n",
       "...                       ...                ...           ...   \n",
       "1065230           SHEN JIAWEI            windows             0   \n",
       "1065570      BekkerDev Studio            windows             0   \n",
       "1065650           EntwicklerX            windows             0   \n",
       "1066700  Alawar Entertainment        windows;mac             0   \n",
       "1069460  Alawar Entertainment        windows;mac             0   \n",
       "\n",
       "                                                categories  \\\n",
       "appid                                                        \n",
       "10       Multi-player;Online Multi-Player;Local Multi-P...   \n",
       "20       Multi-player;Online Multi-Player;Local Multi-P...   \n",
       "30                   Multi-player;Valve Anti-Cheat enabled   \n",
       "40       Multi-player;Online Multi-Player;Local Multi-P...   \n",
       "50       Single-player;Multi-player;Valve Anti-Cheat en...   \n",
       "...                                                    ...   \n",
       "1065230                   Single-player;Steam Achievements   \n",
       "1065570                                      Single-player   \n",
       "1065650  Single-player;Multi-player;Co-op;Shared/Split ...   \n",
       "1066700                          Single-player;Steam Cloud   \n",
       "1069460                          Single-player;Steam Cloud   \n",
       "\n",
       "                         genres                 steamspy_tags  ...  action  \\\n",
       "appid                                                          ...           \n",
       "10                       Action        Action;FPS;Multiplayer  ...       1   \n",
       "20                       Action        Action;FPS;Multiplayer  ...       1   \n",
       "30                       Action  FPS;World War II;Multiplayer  ...       1   \n",
       "40                       Action        Action;FPS;Multiplayer  ...       1   \n",
       "50                       Action             FPS;Action;Sci-fi  ...       1   \n",
       "...                         ...                           ...  ...     ...   \n",
       "1065230  Adventure;Casual;Indie        Adventure;Indie;Casual  ...       0   \n",
       "1065570  Action;Adventure;Indie        Action;Indie;Adventure  ...       1   \n",
       "1065650     Action;Casual;Indie           Action;Indie;Casual  ...       1   \n",
       "1066700  Adventure;Casual;Indie        Indie;Casual;Adventure  ...       0   \n",
       "1069460  Adventure;Casual;Indie        Indie;Casual;Adventure  ...       0   \n",
       "\n",
       "         adventure  casual  indie  massively_multiplayer rpg  racing  \\\n",
       "appid                                                                  \n",
       "10               0       0      0                      0   0       0   \n",
       "20               0       0      0                      0   0       0   \n",
       "30               0       0      0                      0   0       0   \n",
       "40               0       0      0                      0   0       0   \n",
       "50               0       0      0                      0   0       0   \n",
       "...            ...     ...    ...                    ...  ..     ...   \n",
       "1065230          1       1      1                      0   0       0   \n",
       "1065570          1       0      1                      0   0       0   \n",
       "1065650          0       1      1                      0   0       0   \n",
       "1066700          1       1      1                      0   0       0   \n",
       "1069460          1       1      1                      0   0       0   \n",
       "\n",
       "         simulation  sports  strategy  \n",
       "appid                                  \n",
       "10                0       0         0  \n",
       "20                0       0         0  \n",
       "30                0       0         0  \n",
       "40                0       0         0  \n",
       "50                0       0         0  \n",
       "...             ...     ...       ...  \n",
       "1065230           0       0         0  \n",
       "1065570           0       0         0  \n",
       "1065650           0       0         0  \n",
       "1066700           0       0         0  \n",
       "1069460           0       0         0  \n",
       "\n",
       "[27075 rows x 27 columns]"
      ]
     },
     "execution_count": 24,
     "metadata": {},
     "output_type": "execute_result"
    }
   ],
   "source": [
    "# check steam_df for the new columns\n",
    "steam_df"
   ]
  },
  {
   "cell_type": "code",
   "execution_count": 25,
   "metadata": {},
   "outputs": [
    {
     "name": "stdout",
     "output_type": "stream",
     "text": [
      "<class 'pandas.core.frame.DataFrame'>\n",
      "Int64Index: 27075 entries, 10 to 1069460\n",
      "Data columns (total 27 columns):\n",
      " #   Column                 Non-Null Count  Dtype  \n",
      "---  ------                 --------------  -----  \n",
      " 0   name                   27075 non-null  object \n",
      " 1   release_date           27075 non-null  object \n",
      " 2   english                27075 non-null  int64  \n",
      " 3   developer              27075 non-null  object \n",
      " 4   publisher              27075 non-null  object \n",
      " 5   platforms              27075 non-null  object \n",
      " 6   required_age           27075 non-null  int64  \n",
      " 7   categories             27075 non-null  object \n",
      " 8   genres                 27075 non-null  object \n",
      " 9   steamspy_tags          27075 non-null  object \n",
      " 10  achievements           27075 non-null  int64  \n",
      " 11  positive_ratings       27075 non-null  int64  \n",
      " 12  negative_ratings       27075 non-null  int64  \n",
      " 13  average_playtime       27075 non-null  int64  \n",
      " 14  median_playtime        27075 non-null  int64  \n",
      " 15  owners                 27075 non-null  object \n",
      " 16  price                  27075 non-null  float64\n",
      " 17  action                 27075 non-null  int64  \n",
      " 18  adventure              27075 non-null  int64  \n",
      " 19  casual                 27075 non-null  int64  \n",
      " 20  indie                  27075 non-null  int64  \n",
      " 21  massively_multiplayer  27075 non-null  int64  \n",
      " 22  rpg                    27075 non-null  int64  \n",
      " 23  racing                 27075 non-null  int64  \n",
      " 24  simulation             27075 non-null  int64  \n",
      " 25  sports                 27075 non-null  int64  \n",
      " 26  strategy               27075 non-null  int64  \n",
      "dtypes: float64(1), int64(17), object(9)\n",
      "memory usage: 5.8+ MB\n"
     ]
    }
   ],
   "source": [
    "steam_df.info()"
   ]
  },
  {
   "cell_type": "markdown",
   "metadata": {},
   "source": [
    "With the genres extracted and separated, it is now easier to work with the data."
   ]
  },
  {
   "cell_type": "markdown",
   "metadata": {},
   "source": [
    "The next column that can be altered is the `owners` column. If we look at the `owners` values now, it contains a String that represents the range of the users. We can use these values but to explore the data easier without affecting its accuracy we can change it to actual numbers. For this, we can get the middle value of this range to represent the number of owners. For example, one game has `1000-2000` owners, we can replace it with `1500`."
   ]
  },
  {
   "cell_type": "code",
   "execution_count": 26,
   "metadata": {},
   "outputs": [
    {
     "data": {
      "text/plain": [
       "appid\n",
       "10         15000000\n",
       "20          7500000\n",
       "30          7500000\n",
       "40          7500000\n",
       "50          7500000\n",
       "             ...   \n",
       "1065230       10000\n",
       "1065570       10000\n",
       "1065650       10000\n",
       "1066700       10000\n",
       "1069460       10000\n",
       "Name: owners, Length: 27075, dtype: int32"
      ]
     },
     "execution_count": 26,
     "metadata": {},
     "output_type": "execute_result"
    }
   ],
   "source": [
    "steam_df['owners'] = steam_df['owners'].str.split('-').apply(lambda x: (int(x[0]) + int(x[1])) / 2).astype(int)\n",
    "steam_df['owners']"
   ]
  },
  {
   "cell_type": "markdown",
   "metadata": {},
   "source": [
    "The code above gets the minimum and maximum of a specific range for the number of owners, adds them together then divides by 2. The values will then replace the owners column, making it easier to work with."
   ]
  },
  {
   "cell_type": "markdown",
   "metadata": {},
   "source": [
    "## 2.2 Visualizations"
   ]
  },
  {
   "cell_type": "markdown",
   "metadata": {},
   "source": [
    "Now that we altered the `genres` column into columns that we can easily work with, let's revisualize the number of games in the genres."
   ]
  },
  {
   "cell_type": "code",
   "execution_count": 27,
   "metadata": {},
   "outputs": [
    {
     "data": {
      "text/plain": [
       "Text(0, 0.5, 'Genres')"
      ]
     },
     "execution_count": 27,
     "metadata": {},
     "output_type": "execute_result"
    },
    {
     "data": {
      "image/png": "[encoded data removed]",
      "text/plain": [
       "<Figure size 576x576 with 1 Axes>"
      ]
     },
     "metadata": {},
     "output_type": "display_data"
    }
   ],
   "source": [
    "# Get genres columns then sum count\n",
    "genres = steam_df.columns[17:]\n",
    "genres_count = steam_df[genres].sum()\n",
    "\n",
    "#get percentage of each genre based on total number of genres\n",
    "percent_of_genres = (genres_count/genres_count.sum())*100\n",
    "percent_of_genres.plot.pie(figsize=(8, 8))\n",
    "plt.ylabel('Genres')\n"
   ]
  },
  {
   "cell_type": "markdown",
   "metadata": {},
   "source": [
    "The pie above shows the distribution of games on different genres. If we compare it to the graph before cleaning the `genres` column, the differences on the percentage of genres can be seen more clearly than before. `Indie` games is still the most frequent genre."
   ]
  },
  {
   "cell_type": "markdown",
   "metadata": {},
   "source": [
    "Using the dataset, we can also visualize the average ratings of games per `top genre`."
   ]
  },
  {
   "cell_type": "code",
   "execution_count": 28,
   "metadata": {},
   "outputs": [
    {
     "data": {
      "text/html": [
       "<div>\n",
       "<style scoped>\n",
       "    .dataframe tbody tr th:only-of-type {\n",
       "        vertical-align: middle;\n",
       "    }\n",
       "\n",
       "    .dataframe tbody tr th {\n",
       "        vertical-align: top;\n",
       "    }\n",
       "\n",
       "    .dataframe thead th {\n",
       "        text-align: right;\n",
       "    }\n",
       "</style>\n",
       "<table border=\"1\" class=\"dataframe\">\n",
       "  <thead>\n",
       "    <tr style=\"text-align: right;\">\n",
       "      <th></th>\n",
       "      <th>positive</th>\n",
       "      <th>negative</th>\n",
       "    </tr>\n",
       "  </thead>\n",
       "  <tbody>\n",
       "    <tr>\n",
       "      <th>action</th>\n",
       "      <td>18829730</td>\n",
       "      <td>4246544</td>\n",
       "    </tr>\n",
       "    <tr>\n",
       "      <th>adventure</th>\n",
       "      <td>8725072</td>\n",
       "      <td>2337965</td>\n",
       "    </tr>\n",
       "    <tr>\n",
       "      <th>casual</th>\n",
       "      <td>2796580</td>\n",
       "      <td>497498</td>\n",
       "    </tr>\n",
       "    <tr>\n",
       "      <th>indie</th>\n",
       "      <td>10490685</td>\n",
       "      <td>1774568</td>\n",
       "    </tr>\n",
       "    <tr>\n",
       "      <th>massively_multiplayer</th>\n",
       "      <td>2507445</td>\n",
       "      <td>1362196</td>\n",
       "    </tr>\n",
       "    <tr>\n",
       "      <th>rpg</th>\n",
       "      <td>5805093</td>\n",
       "      <td>1200125</td>\n",
       "    </tr>\n",
       "    <tr>\n",
       "      <th>racing</th>\n",
       "      <td>679716</td>\n",
       "      <td>141861</td>\n",
       "    </tr>\n",
       "    <tr>\n",
       "      <th>simulation</th>\n",
       "      <td>4257312</td>\n",
       "      <td>864892</td>\n",
       "    </tr>\n",
       "    <tr>\n",
       "      <th>sports</th>\n",
       "      <td>686749</td>\n",
       "      <td>179981</td>\n",
       "    </tr>\n",
       "    <tr>\n",
       "      <th>strategy</th>\n",
       "      <td>4533369</td>\n",
       "      <td>945578</td>\n",
       "    </tr>\n",
       "  </tbody>\n",
       "</table>\n",
       "</div>"
      ],
      "text/plain": [
       "                       positive  negative\n",
       "action                 18829730   4246544\n",
       "adventure               8725072   2337965\n",
       "casual                  2796580    497498\n",
       "indie                  10490685   1774568\n",
       "massively_multiplayer   2507445   1362196\n",
       "rpg                     5805093   1200125\n",
       "racing                   679716    141861\n",
       "simulation              4257312    864892\n",
       "sports                   686749    179981\n",
       "strategy                4533369    945578"
      ]
     },
     "execution_count": 28,
     "metadata": {},
     "output_type": "execute_result"
    }
   ],
   "source": [
    "#get total ratings per genre\n",
    "total_positive = []\n",
    "total_negative = []\n",
    "\n",
    "#sum ratings per genre\n",
    "for genre in genres:\n",
    "    total_positive.append(steam_df[steam_df[genre] == 1]['positive_ratings'].sum())\n",
    "    total_negative.append(steam_df[steam_df[genre] == 1]['negative_ratings'].sum())\n",
    "\n",
    "#convert to pandas Series\n",
    "total_positive = pd.Series(index=genres, data=total_positive)\n",
    "total_negative = pd.Series(index=genres, data=total_negative)\n",
    "\n",
    "#Create dataFrame\n",
    "ratings_per_genre = pd.concat([total_positive, total_negative], axis=1)\n",
    "ratings_per_genre.rename(columns={0: 'positive', 1: 'negative'})"
   ]
  },
  {
   "cell_type": "code",
   "execution_count": 29,
   "metadata": {},
   "outputs": [
    {
     "data": {
      "text/plain": [
       "<matplotlib.legend.Legend at 0x1342e22d148>"
      ]
     },
     "execution_count": 29,
     "metadata": {},
     "output_type": "execute_result"
    },
    {
     "data": {
      "image/png": "[encoded data removed]",
      "text/plain": [
       "<Figure size 432x288 with 1 Axes>"
      ]
     },
     "metadata": {
      "needs_background": "light"
     },
     "output_type": "display_data"
    }
   ],
   "source": [
    "#Visualize using a stacked bar plot\n",
    "ratings_per_genre.plot(kind='bar', stacked=True)\n",
    "plt.ylabel('Rating')\n",
    "plt.xlabel('Genres')\n",
    "plt.title('Ratings of Steam games per genre')\n",
    "plt.legend(['Positive', 'Negative'])"
   ]
  },
  {
   "cell_type": "markdown",
   "metadata": {},
   "source": [
    "The bar plot above shows that in all of the `top genres`, most ratings in every genre are positive."
   ]
  },
  {
   "cell_type": "markdown",
   "metadata": {},
   "source": [
    "To visualize the consistency of ratings per each `genre`, we can also average the positive ratings to see if every genre is consistently rated positively."
   ]
  },
  {
   "cell_type": "code",
   "execution_count": 30,
   "metadata": {},
   "outputs": [
    {
     "data": {
      "text/plain": [
       "action                   70.988826\n",
       "adventure                71.375304\n",
       "casual                   71.066363\n",
       "indie                    72.145829\n",
       "massively_multiplayer    61.189327\n",
       "rpg                      71.626058\n",
       "racing                   66.719598\n",
       "simulation               65.983492\n",
       "sports                   66.604025\n",
       "strategy                 69.291369\n",
       "dtype: float64"
      ]
     },
     "execution_count": 30,
     "metadata": {},
     "output_type": "execute_result"
    }
   ],
   "source": [
    "#get total ratings per game\n",
    "steam_df['total_ratings'] = steam_df['positive_ratings'] + steam_df['negative_ratings']\n",
    "\n",
    "#ratio of ratings\n",
    "steam_df['rating_ratio'] = steam_df['positive_ratings']/steam_df['total_ratings']\n",
    "\n",
    "#get the average of ratings per genre\n",
    "avg_rating_ratio_per_genre = []\n",
    "for genre in genres:\n",
    "    avg_rating_ratio_per_genre.append((steam_df[steam_df[genre] == 1]['rating_ratio'].sum() / steam_df[genre].sum())*100)\n",
    "\n",
    "#convert average ratings to Series\n",
    "avg_rating_ratio_per_genre = pd.Series(index=genres, data=avg_rating_ratio_per_genre)\n",
    "avg_rating_ratio_per_genre"
   ]
  },
  {
   "cell_type": "code",
   "execution_count": 31,
   "metadata": {},
   "outputs": [
    {
     "data": {
      "text/plain": [
       "Text(0.5, 0, 'Genres')"
      ]
     },
     "execution_count": 31,
     "metadata": {},
     "output_type": "execute_result"
    },
    {
     "data": {
      "image/png": "[encoded data removed]",
      "text/plain": [
       "<Figure size 1080x360 with 1 Axes>"
      ]
     },
     "metadata": {
      "needs_background": "light"
     },
     "output_type": "display_data"
    }
   ],
   "source": [
    "avg_rating_ratio_per_genre.plot(figsize=(15, 5))\n",
    "plt.title('Positive ratings ratio per genre')\n",
    "plt.ylabel('% of positive ratings/total ratings')\n",
    "plt.xlabel('Genres')"
   ]
  },
  {
   "cell_type": "markdown",
   "metadata": {},
   "source": [
    "The visualization above shows that each `top genres` are consistently rated positively above `50%`. The ratings ranges from `61%-73%`. Even though there was a drop in the `massively_multiplayer` genre, it is still above `50%` positive rating."
   ]
  },
  {
   "cell_type": "markdown",
   "metadata": {},
   "source": [
    "## Recommender System\n",
    "\n",
    "Recommender systems are in use in multiple industries. For example, movie streaming services like Netflix use a kind of recommender system that suggests shows based on the user's preferences and other users with the same interests. Online stores like Amazon suggest other items that are purchased together with the items that the user has purchased. It is no surprise that video game distribution services like Steam also use a recommender system. For this study, we will be devising our own recommender system.\n",
    "\n",
    "Games are classified according to genre. Games can belong to more than one genre. As described above, the genres that we will use will be the top ten video game genres.\n",
    "\n",
    "The recommender system used in this study is content-based, which recommends items based on the user's preferences and history, and items similar to it, which in this case, are games the user has played.\n",
    "\n",
    "### Ratings\n",
    "\n",
    "On Steam, games are rated as either positive or negative, so a 1-to-5 rating system cannot apply here. To represent this rating system as a normalized rating scale, negative ratings are valued at `-1` while positive ratings are valued at `1`. Unrated and unplayed games will be given a rating of `0`. Unplayed games will be given a special value :\n",
    "\n",
    "$\n",
    "  R_{i_\\textrm{rating}} =\n",
    "  \\begin{cases}\n",
    "     -1.0 & \\textrm{if game is given a negative rating} \\\\\n",
    "      0.0 & \\textrm{if game is unrated} \\\\\n",
    "      1.0 & \\textrm{if game is given a positive rating}\n",
    "  \\end{cases}\n",
    "$\n",
    "\n",
    "### Playtime\n",
    "\n",
    "Steam records the amount of time, in hours, that a user has spent on the game. Although it only tracks the time that the game is open rather than the time that the user may have actually spent playing the game, we assume that such times are representative of actual playtime for the purposes of this recommender system. It is more logical that a user who doesn't like the game not to buy it let alone run and play it. This shall play a factor in the recommender system.\n",
    "\n",
    "Each game has a median playtime in hours. This means that 50% of the players have spent a total of at least this amount of time. It also means that the other 50% have spent a total of no more than this amount of time. To factor in the recommender system, games that have been played for more than this median playtime will receive an additional `0.5` rating. The median playtime for game $i$ shall be known in the formula as $M_{i_\\textrm{total}}$ and the total playtime for a user shall be $T_{i_\\textrm{total}}$.\n",
    "\n",
    "Steam allows for refunds on games that have been played for less than two hours and owned for less than two weeks. Reasons are most likely the user mistakenly bought the game or got bored in the first few minutes of gameplay. Games that have been played for less than two hours will receive a `-0.5` deduction in the rating.\n",
    "\n",
    "$\n",
    "  R_{i_\\textrm{total}} =\n",
    "  \\begin{cases}\n",
    "      0.0 & \\textrm{if $T_{i_\\textrm{total}} < 2 \\textrm{ hours}$} \\\\\n",
    "      \\frac{T_{i_\\textrm{total}}}{M_{i_\\textrm{total}}}*0.5 & \\textrm{if $T_{i_\\textrm{total}} \\ge 2 \\textrm{ hours}$ and $T_{i_\\textrm{total}} < M_{i_\\textrm{total}}$} \\\\\n",
    "      0.5 & \\textrm{if $T_{i_\\textrm{total}} \\ge M_{i_\\textrm{total}}$}\n",
    "  \\end{cases}\n",
    "$\n",
    "\n",
    "Each Steam profile displays the amount of time that a game has been played for two weeks. Since it is tricky to track playtime across a two-week period and tracking is not in the scope of this study, values will be manually entered to test the recommender system. Two different games can be played simultaneously, so the sum of all the playtimes can exceed 336 hours or 14 days, but the playtime of a single game cannot exceed this value.\n",
    "\n",
    "To compute this factor, we add all the playtimes for the past 14 days:\n",
    "\n",
    "$T_\\textrm{recent} = \\Sigma[T_{i_\\textrm{recent}}]$\n",
    "\n",
    "We get the rating of each game by dividing the playtime by $T_\\textrm{recent}$ and normalizing it to the interval $[0.0,1.0]$:\n",
    "\n",
    "$R_{i_\\textrm{recent}} = \\frac{T_{i_\\textrm{recent}}}{T_\\textrm{recent}}$\n",
    "\n",
    "However, if $T_\\textrm{recent}$ is zero, all games will receive a $R_{i_\\textrm{recent}}$ of 0 to prevent division-by-zero issues.\n",
    "\n",
    "The total rating that will be used in the recommender system is computed as:\n",
    "\n",
    "$R_i = R_{i_\\textrm{rating}} + R_{i_\\textrm{total}} + R_{i_\\textrm{recent}}$"
   ]
  },
  {
   "cell_type": "code",
   "execution_count": 32,
   "metadata": {},
   "outputs": [
    {
     "name": "stderr",
     "output_type": "stream",
     "text": [
      "C:\\Users\\User\\Documents\\GitHub\\csmodel\\user_profile.py:15: SettingWithCopyWarning: \n",
      "A value is trying to be set on a copy of a slice from a DataFrame.\n",
      "Try using .loc[row_indexer,col_indexer] = value instead\n",
      "\n",
      "See the caveats in the documentation: https://pandas.pydata.org/pandas-docs/stable/user_guide/indexing.html#returning-a-view-versus-a-copy\n",
      "  self.names_df['rating'] = float('nan')\n",
      "C:\\Users\\User\\anaconda3\\lib\\site-packages\\pandas\\core\\indexing.py:965: SettingWithCopyWarning: \n",
      "A value is trying to be set on a copy of a slice from a DataFrame.\n",
      "Try using .loc[row_indexer,col_indexer] = value instead\n",
      "\n",
      "See the caveats in the documentation: https://pandas.pydata.org/pandas-docs/stable/user_guide/indexing.html#returning-a-view-versus-a-copy\n",
      "  self.obj[item] = s\n"
     ]
    },
    {
     "data": {
      "text/html": [
       "<div>\n",
       "<style scoped>\n",
       "    .dataframe tbody tr th:only-of-type {\n",
       "        vertical-align: middle;\n",
       "    }\n",
       "\n",
       "    .dataframe tbody tr th {\n",
       "        vertical-align: top;\n",
       "    }\n",
       "\n",
       "    .dataframe thead th {\n",
       "        text-align: right;\n",
       "    }\n",
       "</style>\n",
       "<table border=\"1\" class=\"dataframe\">\n",
       "  <thead>\n",
       "    <tr style=\"text-align: right;\">\n",
       "      <th></th>\n",
       "      <th>0</th>\n",
       "      <th>name</th>\n",
       "    </tr>\n",
       "    <tr>\n",
       "      <th>appid</th>\n",
       "      <th></th>\n",
       "      <th></th>\n",
       "    </tr>\n",
       "  </thead>\n",
       "  <tbody>\n",
       "    <tr>\n",
       "      <th>527700</th>\n",
       "      <td>0.268917</td>\n",
       "      <td>Containment Initiative</td>\n",
       "    </tr>\n",
       "    <tr>\n",
       "      <th>908830</th>\n",
       "      <td>0.268133</td>\n",
       "      <td>Shadow Fear™ Path to Insanity</td>\n",
       "    </tr>\n",
       "    <tr>\n",
       "      <th>259870</th>\n",
       "      <td>0.267295</td>\n",
       "      <td>OMG Zombies!</td>\n",
       "    </tr>\n",
       "    <tr>\n",
       "      <th>534440</th>\n",
       "      <td>0.244113</td>\n",
       "      <td>Killing Zombies</td>\n",
       "    </tr>\n",
       "    <tr>\n",
       "      <th>792680</th>\n",
       "      <td>0.243600</td>\n",
       "      <td>Containment Initiative: PC Standalone</td>\n",
       "    </tr>\n",
       "    <tr>\n",
       "      <th>434070</th>\n",
       "      <td>0.241184</td>\n",
       "      <td>Plight of the Zombie</td>\n",
       "    </tr>\n",
       "    <tr>\n",
       "      <th>1250</th>\n",
       "      <td>0.239409</td>\n",
       "      <td>Killing Floor</td>\n",
       "    </tr>\n",
       "    <tr>\n",
       "      <th>685390</th>\n",
       "      <td>0.233364</td>\n",
       "      <td>Pain Train PainPocalypse</td>\n",
       "    </tr>\n",
       "    <tr>\n",
       "      <th>39800</th>\n",
       "      <td>0.229760</td>\n",
       "      <td>Nation Red</td>\n",
       "    </tr>\n",
       "    <tr>\n",
       "      <th>654470</th>\n",
       "      <td>0.229639</td>\n",
       "      <td>Blood Waves</td>\n",
       "    </tr>\n",
       "  </tbody>\n",
       "</table>\n",
       "</div>"
      ],
      "text/plain": [
       "               0                                   name\n",
       "appid                                                  \n",
       "527700  0.268917                 Containment Initiative\n",
       "908830  0.268133          Shadow Fear™ Path to Insanity\n",
       "259870  0.267295                           OMG Zombies!\n",
       "534440  0.244113                        Killing Zombies\n",
       "792680  0.243600  Containment Initiative: PC Standalone\n",
       "434070  0.241184                   Plight of the Zombie\n",
       "1250    0.239409                          Killing Floor\n",
       "685390  0.233364               Pain Train PainPocalypse\n",
       "39800   0.229760                             Nation Red\n",
       "654470  0.229639                            Blood Waves"
      ]
     },
     "execution_count": 32,
     "metadata": {},
     "output_type": "execute_result"
    }
   ],
   "source": [
    "# Create user profile\n",
    "\n",
    "from game import Game\n",
    "from user_profile import UserProfile\n",
    "    \n",
    "user = [\n",
    "    Game(271590, -1, 20, 0), # Grand Theft Auto V\n",
    "    Game(72850, 1, 1000, 0), # Skyrim\n",
    "    Game(550, 1, 500, 2), # Left 4 Dead 2\n",
    "    Game(750920, 1, 200, 4), # Shadow of the Tomb Raider\n",
    "    Game(264710, 0, 100, 0), # Subnautica\n",
    "    Game(413150, 1, 600, 0) # Stardew Valley\n",
    "]\n",
    "\n",
    "# Translate it into a table\n",
    "\n",
    "profile = UserProfile(steam_tag_df, steam_df)\n",
    "profile.add_game(Game(271590, -1, 20, 0)) # Grand Theft Auto V\n",
    "profile.add_game(Game(72850, 1, 1000, 0)) # Skyrim\n",
    "profile.add_game(Game(550, 1, 500, 2))    # Left 4 Dead 2\n",
    "profile.add_game(Game(750920, 1, 200, 4)) # Shadow of the Tomb Raider\n",
    "profile.add_game(Game(264710, 0, 100, 0)) # Subnautica\n",
    "profile.add_game(Game(413150, 1, 600, 0)) # Stardew Valley\n",
    "\n",
    "profile.build_profile()\n",
    "\n",
    "profile.recommend()[1]"
   ]
  },
  {
   "cell_type": "markdown",
   "metadata": {},
   "source": [
    "## What is the most played genre based on playtime?"
   ]
  },
  {
   "cell_type": "markdown",
   "metadata": {},
   "source": [
    "Using the dataset, we can find out what the most played genre is with the highest rating. For this part, there are 2 available columns in the dataset, the `average_playtime` and the `median_playtime`. Choosing `average_playtime`, there is a possiblity that a game's average playtime is skewed because some owners had really long hours compared to other players. This means that the owner is an outlier in computing the average playtime. Using the `median_playtime` is safe, and is not extremely affected by any outliers."
   ]
  },
  {
   "cell_type": "markdown",
   "metadata": {},
   "source": [
    "In choosing between `average_playtime` and `median_playtime`, though `average_playtime` considers owners that are outliers, these users can be considered significant because it shows how the game is replayable, alive, and worth the time to 'grind' on. So the `average_playtime` column will be used."
   ]
  },
  {
   "cell_type": "markdown",
   "metadata": {},
   "source": [
    "First, we check the `average_playtime` column."
   ]
  },
  {
   "cell_type": "code",
   "execution_count": 33,
   "metadata": {},
   "outputs": [
    {
     "data": {
      "text/html": [
       "<div>\n",
       "<style scoped>\n",
       "    .dataframe tbody tr th:only-of-type {\n",
       "        vertical-align: middle;\n",
       "    }\n",
       "\n",
       "    .dataframe tbody tr th {\n",
       "        vertical-align: top;\n",
       "    }\n",
       "\n",
       "    .dataframe thead th {\n",
       "        text-align: right;\n",
       "    }\n",
       "</style>\n",
       "<table border=\"1\" class=\"dataframe\">\n",
       "  <thead>\n",
       "    <tr style=\"text-align: right;\">\n",
       "      <th></th>\n",
       "      <th>name</th>\n",
       "      <th>release_date</th>\n",
       "      <th>english</th>\n",
       "      <th>developer</th>\n",
       "      <th>publisher</th>\n",
       "      <th>platforms</th>\n",
       "      <th>required_age</th>\n",
       "      <th>categories</th>\n",
       "      <th>genres</th>\n",
       "      <th>steamspy_tags</th>\n",
       "      <th>...</th>\n",
       "      <th>casual</th>\n",
       "      <th>indie</th>\n",
       "      <th>massively_multiplayer</th>\n",
       "      <th>rpg</th>\n",
       "      <th>racing</th>\n",
       "      <th>simulation</th>\n",
       "      <th>sports</th>\n",
       "      <th>strategy</th>\n",
       "      <th>total_ratings</th>\n",
       "      <th>rating_ratio</th>\n",
       "    </tr>\n",
       "    <tr>\n",
       "      <th>appid</th>\n",
       "      <th></th>\n",
       "      <th></th>\n",
       "      <th></th>\n",
       "      <th></th>\n",
       "      <th></th>\n",
       "      <th></th>\n",
       "      <th></th>\n",
       "      <th></th>\n",
       "      <th></th>\n",
       "      <th></th>\n",
       "      <th></th>\n",
       "      <th></th>\n",
       "      <th></th>\n",
       "      <th></th>\n",
       "      <th></th>\n",
       "      <th></th>\n",
       "      <th></th>\n",
       "      <th></th>\n",
       "      <th></th>\n",
       "      <th></th>\n",
       "      <th></th>\n",
       "    </tr>\n",
       "  </thead>\n",
       "  <tbody>\n",
       "    <tr>\n",
       "      <th>1002</th>\n",
       "      <td>Rag Doll Kung Fu</td>\n",
       "      <td>2005-10-12</td>\n",
       "      <td>1</td>\n",
       "      <td>Mark Healey</td>\n",
       "      <td>Mark Healey</td>\n",
       "      <td>windows</td>\n",
       "      <td>0</td>\n",
       "      <td>Single-player;Multi-player</td>\n",
       "      <td>Indie</td>\n",
       "      <td>Indie;Fighting;Multiplayer</td>\n",
       "      <td>...</td>\n",
       "      <td>0</td>\n",
       "      <td>1</td>\n",
       "      <td>0</td>\n",
       "      <td>0</td>\n",
       "      <td>0</td>\n",
       "      <td>0</td>\n",
       "      <td>0</td>\n",
       "      <td>0</td>\n",
       "      <td>57</td>\n",
       "      <td>0.701754</td>\n",
       "    </tr>\n",
       "    <tr>\n",
       "      <th>1300</th>\n",
       "      <td>SiN Episodes: Emergence</td>\n",
       "      <td>2006-05-10</td>\n",
       "      <td>1</td>\n",
       "      <td>Ritual Entertainment</td>\n",
       "      <td>Ritual Entertainment</td>\n",
       "      <td>windows</td>\n",
       "      <td>0</td>\n",
       "      <td>Single-player;Stats</td>\n",
       "      <td>Action</td>\n",
       "      <td>Action;FPS;Cyberpunk</td>\n",
       "      <td>...</td>\n",
       "      <td>0</td>\n",
       "      <td>0</td>\n",
       "      <td>0</td>\n",
       "      <td>0</td>\n",
       "      <td>0</td>\n",
       "      <td>0</td>\n",
       "      <td>0</td>\n",
       "      <td>0</td>\n",
       "      <td>529</td>\n",
       "      <td>0.884688</td>\n",
       "    </tr>\n",
       "    <tr>\n",
       "      <th>1600</th>\n",
       "      <td>Dangerous Waters</td>\n",
       "      <td>2006-02-07</td>\n",
       "      <td>1</td>\n",
       "      <td>Sonalysts</td>\n",
       "      <td>Strategy First</td>\n",
       "      <td>windows</td>\n",
       "      <td>0</td>\n",
       "      <td>Single-player;Multi-player</td>\n",
       "      <td>Strategy</td>\n",
       "      <td>Strategy;Simulation;Naval</td>\n",
       "      <td>...</td>\n",
       "      <td>0</td>\n",
       "      <td>0</td>\n",
       "      <td>0</td>\n",
       "      <td>0</td>\n",
       "      <td>0</td>\n",
       "      <td>0</td>\n",
       "      <td>0</td>\n",
       "      <td>1</td>\n",
       "      <td>184</td>\n",
       "      <td>0.760870</td>\n",
       "    </tr>\n",
       "    <tr>\n",
       "      <th>1610</th>\n",
       "      <td>Space Empires IV Deluxe</td>\n",
       "      <td>2006-02-07</td>\n",
       "      <td>1</td>\n",
       "      <td>Malfador Machinations</td>\n",
       "      <td>Strategy First</td>\n",
       "      <td>windows</td>\n",
       "      <td>0</td>\n",
       "      <td>Single-player;Multi-player</td>\n",
       "      <td>Strategy</td>\n",
       "      <td>Strategy;4X;Sci-fi</td>\n",
       "      <td>...</td>\n",
       "      <td>0</td>\n",
       "      <td>0</td>\n",
       "      <td>0</td>\n",
       "      <td>0</td>\n",
       "      <td>0</td>\n",
       "      <td>0</td>\n",
       "      <td>0</td>\n",
       "      <td>1</td>\n",
       "      <td>138</td>\n",
       "      <td>0.811594</td>\n",
       "    </tr>\n",
       "    <tr>\n",
       "      <th>1630</th>\n",
       "      <td>Disciples II: Rise of the Elves</td>\n",
       "      <td>2006-07-06</td>\n",
       "      <td>1</td>\n",
       "      <td>Strategy First</td>\n",
       "      <td>Strategy First</td>\n",
       "      <td>windows</td>\n",
       "      <td>0</td>\n",
       "      <td>Single-player;Multi-player;Co-op</td>\n",
       "      <td>Strategy</td>\n",
       "      <td>Strategy;Turn-Based Strategy;Fantasy</td>\n",
       "      <td>...</td>\n",
       "      <td>0</td>\n",
       "      <td>0</td>\n",
       "      <td>0</td>\n",
       "      <td>0</td>\n",
       "      <td>0</td>\n",
       "      <td>0</td>\n",
       "      <td>0</td>\n",
       "      <td>1</td>\n",
       "      <td>559</td>\n",
       "      <td>0.806798</td>\n",
       "    </tr>\n",
       "    <tr>\n",
       "      <th>...</th>\n",
       "      <td>...</td>\n",
       "      <td>...</td>\n",
       "      <td>...</td>\n",
       "      <td>...</td>\n",
       "      <td>...</td>\n",
       "      <td>...</td>\n",
       "      <td>...</td>\n",
       "      <td>...</td>\n",
       "      <td>...</td>\n",
       "      <td>...</td>\n",
       "      <td>...</td>\n",
       "      <td>...</td>\n",
       "      <td>...</td>\n",
       "      <td>...</td>\n",
       "      <td>...</td>\n",
       "      <td>...</td>\n",
       "      <td>...</td>\n",
       "      <td>...</td>\n",
       "      <td>...</td>\n",
       "      <td>...</td>\n",
       "      <td>...</td>\n",
       "    </tr>\n",
       "    <tr>\n",
       "      <th>1065230</th>\n",
       "      <td>Room of Pandora</td>\n",
       "      <td>2019-04-24</td>\n",
       "      <td>1</td>\n",
       "      <td>SHEN JIAWEI</td>\n",
       "      <td>SHEN JIAWEI</td>\n",
       "      <td>windows</td>\n",
       "      <td>0</td>\n",
       "      <td>Single-player;Steam Achievements</td>\n",
       "      <td>Adventure;Casual;Indie</td>\n",
       "      <td>Adventure;Indie;Casual</td>\n",
       "      <td>...</td>\n",
       "      <td>1</td>\n",
       "      <td>1</td>\n",
       "      <td>0</td>\n",
       "      <td>0</td>\n",
       "      <td>0</td>\n",
       "      <td>0</td>\n",
       "      <td>0</td>\n",
       "      <td>0</td>\n",
       "      <td>3</td>\n",
       "      <td>1.000000</td>\n",
       "    </tr>\n",
       "    <tr>\n",
       "      <th>1065570</th>\n",
       "      <td>Cyber Gun</td>\n",
       "      <td>2019-04-23</td>\n",
       "      <td>1</td>\n",
       "      <td>Semyon Maximov</td>\n",
       "      <td>BekkerDev Studio</td>\n",
       "      <td>windows</td>\n",
       "      <td>0</td>\n",
       "      <td>Single-player</td>\n",
       "      <td>Action;Adventure;Indie</td>\n",
       "      <td>Action;Indie;Adventure</td>\n",
       "      <td>...</td>\n",
       "      <td>0</td>\n",
       "      <td>1</td>\n",
       "      <td>0</td>\n",
       "      <td>0</td>\n",
       "      <td>0</td>\n",
       "      <td>0</td>\n",
       "      <td>0</td>\n",
       "      <td>0</td>\n",
       "      <td>9</td>\n",
       "      <td>0.888889</td>\n",
       "    </tr>\n",
       "    <tr>\n",
       "      <th>1065650</th>\n",
       "      <td>Super Star Blast</td>\n",
       "      <td>2019-04-24</td>\n",
       "      <td>1</td>\n",
       "      <td>EntwicklerX</td>\n",
       "      <td>EntwicklerX</td>\n",
       "      <td>windows</td>\n",
       "      <td>0</td>\n",
       "      <td>Single-player;Multi-player;Co-op;Shared/Split ...</td>\n",
       "      <td>Action;Casual;Indie</td>\n",
       "      <td>Action;Indie;Casual</td>\n",
       "      <td>...</td>\n",
       "      <td>1</td>\n",
       "      <td>1</td>\n",
       "      <td>0</td>\n",
       "      <td>0</td>\n",
       "      <td>0</td>\n",
       "      <td>0</td>\n",
       "      <td>0</td>\n",
       "      <td>0</td>\n",
       "      <td>1</td>\n",
       "      <td>0.000000</td>\n",
       "    </tr>\n",
       "    <tr>\n",
       "      <th>1066700</th>\n",
       "      <td>New Yankee 7: Deer Hunters</td>\n",
       "      <td>2019-04-17</td>\n",
       "      <td>1</td>\n",
       "      <td>Yustas Game Studio</td>\n",
       "      <td>Alawar Entertainment</td>\n",
       "      <td>windows;mac</td>\n",
       "      <td>0</td>\n",
       "      <td>Single-player;Steam Cloud</td>\n",
       "      <td>Adventure;Casual;Indie</td>\n",
       "      <td>Indie;Casual;Adventure</td>\n",
       "      <td>...</td>\n",
       "      <td>1</td>\n",
       "      <td>1</td>\n",
       "      <td>0</td>\n",
       "      <td>0</td>\n",
       "      <td>0</td>\n",
       "      <td>0</td>\n",
       "      <td>0</td>\n",
       "      <td>0</td>\n",
       "      <td>2</td>\n",
       "      <td>1.000000</td>\n",
       "    </tr>\n",
       "    <tr>\n",
       "      <th>1069460</th>\n",
       "      <td>Rune Lord</td>\n",
       "      <td>2019-04-24</td>\n",
       "      <td>1</td>\n",
       "      <td>Adept Studios GD</td>\n",
       "      <td>Alawar Entertainment</td>\n",
       "      <td>windows;mac</td>\n",
       "      <td>0</td>\n",
       "      <td>Single-player;Steam Cloud</td>\n",
       "      <td>Adventure;Casual;Indie</td>\n",
       "      <td>Indie;Casual;Adventure</td>\n",
       "      <td>...</td>\n",
       "      <td>1</td>\n",
       "      <td>1</td>\n",
       "      <td>0</td>\n",
       "      <td>0</td>\n",
       "      <td>0</td>\n",
       "      <td>0</td>\n",
       "      <td>0</td>\n",
       "      <td>0</td>\n",
       "      <td>4</td>\n",
       "      <td>1.000000</td>\n",
       "    </tr>\n",
       "  </tbody>\n",
       "</table>\n",
       "<p>20905 rows × 29 columns</p>\n",
       "</div>"
      ],
      "text/plain": [
       "                                     name release_date  english  \\\n",
       "appid                                                             \n",
       "1002                     Rag Doll Kung Fu   2005-10-12        1   \n",
       "1300              SiN Episodes: Emergence   2006-05-10        1   \n",
       "1600                     Dangerous Waters   2006-02-07        1   \n",
       "1610              Space Empires IV Deluxe   2006-02-07        1   \n",
       "1630     Disciples II: Rise of the Elves    2006-07-06        1   \n",
       "...                                   ...          ...      ...   \n",
       "1065230                   Room of Pandora   2019-04-24        1   \n",
       "1065570                         Cyber Gun   2019-04-23        1   \n",
       "1065650                  Super Star Blast   2019-04-24        1   \n",
       "1066700        New Yankee 7: Deer Hunters   2019-04-17        1   \n",
       "1069460                         Rune Lord   2019-04-24        1   \n",
       "\n",
       "                     developer             publisher    platforms  \\\n",
       "appid                                                               \n",
       "1002               Mark Healey           Mark Healey      windows   \n",
       "1300      Ritual Entertainment  Ritual Entertainment      windows   \n",
       "1600                 Sonalysts        Strategy First      windows   \n",
       "1610     Malfador Machinations        Strategy First      windows   \n",
       "1630            Strategy First        Strategy First      windows   \n",
       "...                        ...                   ...          ...   \n",
       "1065230            SHEN JIAWEI           SHEN JIAWEI      windows   \n",
       "1065570         Semyon Maximov      BekkerDev Studio      windows   \n",
       "1065650            EntwicklerX           EntwicklerX      windows   \n",
       "1066700     Yustas Game Studio  Alawar Entertainment  windows;mac   \n",
       "1069460       Adept Studios GD  Alawar Entertainment  windows;mac   \n",
       "\n",
       "         required_age                                         categories  \\\n",
       "appid                                                                      \n",
       "1002                0                         Single-player;Multi-player   \n",
       "1300                0                                Single-player;Stats   \n",
       "1600                0                         Single-player;Multi-player   \n",
       "1610                0                         Single-player;Multi-player   \n",
       "1630                0                   Single-player;Multi-player;Co-op   \n",
       "...               ...                                                ...   \n",
       "1065230             0                   Single-player;Steam Achievements   \n",
       "1065570             0                                      Single-player   \n",
       "1065650             0  Single-player;Multi-player;Co-op;Shared/Split ...   \n",
       "1066700             0                          Single-player;Steam Cloud   \n",
       "1069460             0                          Single-player;Steam Cloud   \n",
       "\n",
       "                         genres                         steamspy_tags  ...  \\\n",
       "appid                                                                  ...   \n",
       "1002                      Indie            Indie;Fighting;Multiplayer  ...   \n",
       "1300                     Action                  Action;FPS;Cyberpunk  ...   \n",
       "1600                   Strategy             Strategy;Simulation;Naval  ...   \n",
       "1610                   Strategy                    Strategy;4X;Sci-fi  ...   \n",
       "1630                   Strategy  Strategy;Turn-Based Strategy;Fantasy  ...   \n",
       "...                         ...                                   ...  ...   \n",
       "1065230  Adventure;Casual;Indie                Adventure;Indie;Casual  ...   \n",
       "1065570  Action;Adventure;Indie                Action;Indie;Adventure  ...   \n",
       "1065650     Action;Casual;Indie                   Action;Indie;Casual  ...   \n",
       "1066700  Adventure;Casual;Indie                Indie;Casual;Adventure  ...   \n",
       "1069460  Adventure;Casual;Indie                Indie;Casual;Adventure  ...   \n",
       "\n",
       "         casual  indie  massively_multiplayer  rpg  racing  simulation  \\\n",
       "appid                                                                    \n",
       "1002          0      1                      0    0       0           0   \n",
       "1300          0      0                      0    0       0           0   \n",
       "1600          0      0                      0    0       0           0   \n",
       "1610          0      0                      0    0       0           0   \n",
       "1630          0      0                      0    0       0           0   \n",
       "...         ...    ...                    ...  ...     ...         ...   \n",
       "1065230       1      1                      0    0       0           0   \n",
       "1065570       0      1                      0    0       0           0   \n",
       "1065650       1      1                      0    0       0           0   \n",
       "1066700       1      1                      0    0       0           0   \n",
       "1069460       1      1                      0    0       0           0   \n",
       "\n",
       "         sports  strategy  total_ratings  rating_ratio  \n",
       "appid                                                   \n",
       "1002          0         0             57      0.701754  \n",
       "1300          0         0            529      0.884688  \n",
       "1600          0         1            184      0.760870  \n",
       "1610          0         1            138      0.811594  \n",
       "1630          0         1            559      0.806798  \n",
       "...         ...       ...            ...           ...  \n",
       "1065230       0         0              3      1.000000  \n",
       "1065570       0         0              9      0.888889  \n",
       "1065650       0         0              1      0.000000  \n",
       "1066700       0         0              2      1.000000  \n",
       "1069460       0         0              4      1.000000  \n",
       "\n",
       "[20905 rows x 29 columns]"
      ]
     },
     "execution_count": 33,
     "metadata": {},
     "output_type": "execute_result"
    }
   ],
   "source": [
    "steam_df[steam_df['average_playtime'] == 0]"
   ]
  },
  {
   "cell_type": "markdown",
   "metadata": {},
   "source": [
    "As seen above, there are 20905 rows that contain 0 `average_playtime`. We can drop these columns since they will not count towards the highest playtime anyways."
   ]
  },
  {
   "cell_type": "code",
   "execution_count": 34,
   "metadata": {},
   "outputs": [],
   "source": [
    "#remove 0 playtime\n",
    "steam_df = steam_df[steam_df['average_playtime'] > 0.0]"
   ]
  },
  {
   "cell_type": "markdown",
   "metadata": {},
   "source": [
    "Next, we group the totals by genre."
   ]
  },
  {
   "cell_type": "code",
   "execution_count": 35,
   "metadata": {},
   "outputs": [
    {
     "data": {
      "text/plain": [
       "action                   1714230\n",
       "adventure                1521420\n",
       "casual                    868603\n",
       "indie                    2191390\n",
       "massively_multiplayer     524525\n",
       "rpg                      1194086\n",
       "racing                    145634\n",
       "simulation                801127\n",
       "sports                    152715\n",
       "strategy                 1013354\n",
       "dtype: int64"
      ]
     },
     "execution_count": 35,
     "metadata": {},
     "output_type": "execute_result"
    }
   ],
   "source": [
    "playtime_per_genre = []\n",
    "\n",
    "for genre in genres:\n",
    "    playtime_per_genre.append(steam_df[steam_df[genre] == 1]['average_playtime'].sum())\n",
    "\n",
    "playtime_per_genre = pd.Series(index=genres, data=playtime_per_genre)\n",
    "playtime_per_genre"
   ]
  },
  {
   "cell_type": "code",
   "execution_count": 36,
   "metadata": {},
   "outputs": [
    {
     "data": {
      "text/plain": [
       "Text(0.5, 0, 'Genres')"
      ]
     },
     "execution_count": 36,
     "metadata": {},
     "output_type": "execute_result"
    },
    {
     "data": {
      "image/png": "[encoded data removed]",
      "text/plain": [
       "<Figure size 432x288 with 1 Axes>"
      ]
     },
     "metadata": {
      "needs_background": "light"
     },
     "output_type": "display_data"
    }
   ],
   "source": [
    "playtime_per_genre.plot(kind='bar')\n",
    "plt.ylabel('Total average playtime')\n",
    "plt.xlabel('Genres')"
   ]
  },
  {
   "cell_type": "markdown",
   "metadata": {},
   "source": [
    "The bar plot above shows that the most played genre is the `Indie` genre. Following it is `Action` and `Adventure`. One reason as to why `Indie` is the most played is because it is also the most number of games in the Steam Games store. Looking back earlier, we found out that `Indie` has the most numbers of games in the genre."
   ]
  },
  {
   "cell_type": "markdown",
   "metadata": {},
   "source": [
    "## What is the highest rated game genre?"
   ]
  },
  {
   "cell_type": "markdown",
   "metadata": {},
   "source": [
    "By using the dataset, we can also find which game genre has the most number of `positive_ratings`. In order to show this, we only need to get all the games included in the `positive_ratings` column, and sort them per genre."
   ]
  },
  {
   "cell_type": "markdown",
   "metadata": {},
   "source": [
    "First, we check the `positive_ratings` column."
   ]
  },
  {
   "cell_type": "code",
   "execution_count": 41,
   "metadata": {},
   "outputs": [
    {
     "data": {
      "text/html": [
       "<div>\n",
       "<style scoped>\n",
       "    .dataframe tbody tr th:only-of-type {\n",
       "        vertical-align: middle;\n",
       "    }\n",
       "\n",
       "    .dataframe tbody tr th {\n",
       "        vertical-align: top;\n",
       "    }\n",
       "\n",
       "    .dataframe thead th {\n",
       "        text-align: right;\n",
       "    }\n",
       "</style>\n",
       "<table border=\"1\" class=\"dataframe\">\n",
       "  <thead>\n",
       "    <tr style=\"text-align: right;\">\n",
       "      <th></th>\n",
       "      <th>name</th>\n",
       "      <th>release_date</th>\n",
       "      <th>english</th>\n",
       "      <th>developer</th>\n",
       "      <th>publisher</th>\n",
       "      <th>platforms</th>\n",
       "      <th>required_age</th>\n",
       "      <th>categories</th>\n",
       "      <th>genres</th>\n",
       "      <th>steamspy_tags</th>\n",
       "      <th>...</th>\n",
       "      <th>casual</th>\n",
       "      <th>indie</th>\n",
       "      <th>massively_multiplayer</th>\n",
       "      <th>rpg</th>\n",
       "      <th>racing</th>\n",
       "      <th>simulation</th>\n",
       "      <th>sports</th>\n",
       "      <th>strategy</th>\n",
       "      <th>total_ratings</th>\n",
       "      <th>rating_ratio</th>\n",
       "    </tr>\n",
       "    <tr>\n",
       "      <th>appid</th>\n",
       "      <th></th>\n",
       "      <th></th>\n",
       "      <th></th>\n",
       "      <th></th>\n",
       "      <th></th>\n",
       "      <th></th>\n",
       "      <th></th>\n",
       "      <th></th>\n",
       "      <th></th>\n",
       "      <th></th>\n",
       "      <th></th>\n",
       "      <th></th>\n",
       "      <th></th>\n",
       "      <th></th>\n",
       "      <th></th>\n",
       "      <th></th>\n",
       "      <th></th>\n",
       "      <th></th>\n",
       "      <th></th>\n",
       "      <th></th>\n",
       "      <th></th>\n",
       "    </tr>\n",
       "  </thead>\n",
       "  <tbody>\n",
       "    <tr>\n",
       "      <th>10</th>\n",
       "      <td>Counter-Strike</td>\n",
       "      <td>2000-11-01</td>\n",
       "      <td>1</td>\n",
       "      <td>Valve</td>\n",
       "      <td>Valve</td>\n",
       "      <td>windows;mac;linux</td>\n",
       "      <td>0</td>\n",
       "      <td>Multi-player;Online Multi-Player;Local Multi-P...</td>\n",
       "      <td>Action</td>\n",
       "      <td>Action;FPS;Multiplayer</td>\n",
       "      <td>...</td>\n",
       "      <td>0</td>\n",
       "      <td>0</td>\n",
       "      <td>0</td>\n",
       "      <td>0</td>\n",
       "      <td>0</td>\n",
       "      <td>0</td>\n",
       "      <td>0</td>\n",
       "      <td>0</td>\n",
       "      <td>127873</td>\n",
       "      <td>0.973888</td>\n",
       "    </tr>\n",
       "    <tr>\n",
       "      <th>20</th>\n",
       "      <td>Team Fortress Classic</td>\n",
       "      <td>1999-04-01</td>\n",
       "      <td>1</td>\n",
       "      <td>Valve</td>\n",
       "      <td>Valve</td>\n",
       "      <td>windows;mac;linux</td>\n",
       "      <td>0</td>\n",
       "      <td>Multi-player;Online Multi-Player;Local Multi-P...</td>\n",
       "      <td>Action</td>\n",
       "      <td>Action;FPS;Multiplayer</td>\n",
       "      <td>...</td>\n",
       "      <td>0</td>\n",
       "      <td>0</td>\n",
       "      <td>0</td>\n",
       "      <td>0</td>\n",
       "      <td>0</td>\n",
       "      <td>0</td>\n",
       "      <td>0</td>\n",
       "      <td>0</td>\n",
       "      <td>3951</td>\n",
       "      <td>0.839787</td>\n",
       "    </tr>\n",
       "    <tr>\n",
       "      <th>30</th>\n",
       "      <td>Day of Defeat</td>\n",
       "      <td>2003-05-01</td>\n",
       "      <td>1</td>\n",
       "      <td>Valve</td>\n",
       "      <td>Valve</td>\n",
       "      <td>windows;mac;linux</td>\n",
       "      <td>0</td>\n",
       "      <td>Multi-player;Valve Anti-Cheat enabled</td>\n",
       "      <td>Action</td>\n",
       "      <td>FPS;World War II;Multiplayer</td>\n",
       "      <td>...</td>\n",
       "      <td>0</td>\n",
       "      <td>0</td>\n",
       "      <td>0</td>\n",
       "      <td>0</td>\n",
       "      <td>0</td>\n",
       "      <td>0</td>\n",
       "      <td>0</td>\n",
       "      <td>0</td>\n",
       "      <td>3814</td>\n",
       "      <td>0.895648</td>\n",
       "    </tr>\n",
       "    <tr>\n",
       "      <th>40</th>\n",
       "      <td>Deathmatch Classic</td>\n",
       "      <td>2001-06-01</td>\n",
       "      <td>1</td>\n",
       "      <td>Valve</td>\n",
       "      <td>Valve</td>\n",
       "      <td>windows;mac;linux</td>\n",
       "      <td>0</td>\n",
       "      <td>Multi-player;Online Multi-Player;Local Multi-P...</td>\n",
       "      <td>Action</td>\n",
       "      <td>Action;FPS;Multiplayer</td>\n",
       "      <td>...</td>\n",
       "      <td>0</td>\n",
       "      <td>0</td>\n",
       "      <td>0</td>\n",
       "      <td>0</td>\n",
       "      <td>0</td>\n",
       "      <td>0</td>\n",
       "      <td>0</td>\n",
       "      <td>0</td>\n",
       "      <td>1540</td>\n",
       "      <td>0.826623</td>\n",
       "    </tr>\n",
       "    <tr>\n",
       "      <th>50</th>\n",
       "      <td>Half-Life: Opposing Force</td>\n",
       "      <td>1999-11-01</td>\n",
       "      <td>1</td>\n",
       "      <td>Gearbox Software</td>\n",
       "      <td>Valve</td>\n",
       "      <td>windows;mac;linux</td>\n",
       "      <td>0</td>\n",
       "      <td>Single-player;Multi-player;Valve Anti-Cheat en...</td>\n",
       "      <td>Action</td>\n",
       "      <td>FPS;Action;Sci-fi</td>\n",
       "      <td>...</td>\n",
       "      <td>0</td>\n",
       "      <td>0</td>\n",
       "      <td>0</td>\n",
       "      <td>0</td>\n",
       "      <td>0</td>\n",
       "      <td>0</td>\n",
       "      <td>0</td>\n",
       "      <td>0</td>\n",
       "      <td>5538</td>\n",
       "      <td>0.947996</td>\n",
       "    </tr>\n",
       "    <tr>\n",
       "      <th>...</th>\n",
       "      <td>...</td>\n",
       "      <td>...</td>\n",
       "      <td>...</td>\n",
       "      <td>...</td>\n",
       "      <td>...</td>\n",
       "      <td>...</td>\n",
       "      <td>...</td>\n",
       "      <td>...</td>\n",
       "      <td>...</td>\n",
       "      <td>...</td>\n",
       "      <td>...</td>\n",
       "      <td>...</td>\n",
       "      <td>...</td>\n",
       "      <td>...</td>\n",
       "      <td>...</td>\n",
       "      <td>...</td>\n",
       "      <td>...</td>\n",
       "      <td>...</td>\n",
       "      <td>...</td>\n",
       "      <td>...</td>\n",
       "      <td>...</td>\n",
       "    </tr>\n",
       "    <tr>\n",
       "      <th>1020340</th>\n",
       "      <td>Audica</td>\n",
       "      <td>2019-03-07</td>\n",
       "      <td>1</td>\n",
       "      <td>Harmonix Music Systems, Inc</td>\n",
       "      <td>Harmonix Music Systems, Inc</td>\n",
       "      <td>windows</td>\n",
       "      <td>0</td>\n",
       "      <td>Single-player</td>\n",
       "      <td>Action;Indie;Early Access</td>\n",
       "      <td>Early Access;Rhythm;Music</td>\n",
       "      <td>...</td>\n",
       "      <td>0</td>\n",
       "      <td>1</td>\n",
       "      <td>0</td>\n",
       "      <td>0</td>\n",
       "      <td>0</td>\n",
       "      <td>0</td>\n",
       "      <td>0</td>\n",
       "      <td>0</td>\n",
       "      <td>166</td>\n",
       "      <td>0.795181</td>\n",
       "    </tr>\n",
       "    <tr>\n",
       "      <th>1020820</th>\n",
       "      <td>KumaKuma Manga Editor</td>\n",
       "      <td>2019-02-27</td>\n",
       "      <td>1</td>\n",
       "      <td>KumaKumaManga</td>\n",
       "      <td>SakuraGame</td>\n",
       "      <td>windows</td>\n",
       "      <td>0</td>\n",
       "      <td>Steam Achievements</td>\n",
       "      <td>Animation &amp; Modeling;Design &amp; Illustration;Web...</td>\n",
       "      <td>Design &amp; Illustration;Web Publishing;Animation...</td>\n",
       "      <td>...</td>\n",
       "      <td>0</td>\n",
       "      <td>0</td>\n",
       "      <td>0</td>\n",
       "      <td>0</td>\n",
       "      <td>0</td>\n",
       "      <td>0</td>\n",
       "      <td>0</td>\n",
       "      <td>0</td>\n",
       "      <td>387</td>\n",
       "      <td>0.894057</td>\n",
       "    </tr>\n",
       "    <tr>\n",
       "      <th>1031480</th>\n",
       "      <td>東方幕華祭 春雪篇 ～ Fantastic Danmaku Festival Part II</td>\n",
       "      <td>2019-03-18</td>\n",
       "      <td>1</td>\n",
       "      <td>东方幕华祭制作组</td>\n",
       "      <td>东方幕华祭制作组</td>\n",
       "      <td>windows</td>\n",
       "      <td>0</td>\n",
       "      <td>Single-player;Steam Achievements;Partial Contr...</td>\n",
       "      <td>Indie</td>\n",
       "      <td>Indie;Bullet Hell;Faith</td>\n",
       "      <td>...</td>\n",
       "      <td>0</td>\n",
       "      <td>1</td>\n",
       "      <td>0</td>\n",
       "      <td>0</td>\n",
       "      <td>0</td>\n",
       "      <td>0</td>\n",
       "      <td>0</td>\n",
       "      <td>0</td>\n",
       "      <td>638</td>\n",
       "      <td>0.970219</td>\n",
       "    </tr>\n",
       "    <tr>\n",
       "      <th>1043180</th>\n",
       "      <td>Lovers of Aether</td>\n",
       "      <td>2019-04-01</td>\n",
       "      <td>1</td>\n",
       "      <td>Dan Fornace</td>\n",
       "      <td>Dan Fornace</td>\n",
       "      <td>windows;mac</td>\n",
       "      <td>0</td>\n",
       "      <td>Single-player;Steam Cloud</td>\n",
       "      <td>Casual;Indie;Simulation</td>\n",
       "      <td>Psychological Horror;Dating Sim;Casual</td>\n",
       "      <td>...</td>\n",
       "      <td>1</td>\n",
       "      <td>1</td>\n",
       "      <td>0</td>\n",
       "      <td>0</td>\n",
       "      <td>0</td>\n",
       "      <td>1</td>\n",
       "      <td>0</td>\n",
       "      <td>0</td>\n",
       "      <td>680</td>\n",
       "      <td>0.957353</td>\n",
       "    </tr>\n",
       "    <tr>\n",
       "      <th>1051310</th>\n",
       "      <td>Paper Dolls: Original / 纸人：第一章</td>\n",
       "      <td>2019-04-19</td>\n",
       "      <td>1</td>\n",
       "      <td>Beijing Litchi Culture Media Co., Ltd.</td>\n",
       "      <td>Gamera Game</td>\n",
       "      <td>windows</td>\n",
       "      <td>0</td>\n",
       "      <td>Single-player;Steam Achievements;Full controll...</td>\n",
       "      <td>Action;Adventure;Indie</td>\n",
       "      <td>Adventure;Action;Indie</td>\n",
       "      <td>...</td>\n",
       "      <td>0</td>\n",
       "      <td>1</td>\n",
       "      <td>0</td>\n",
       "      <td>0</td>\n",
       "      <td>0</td>\n",
       "      <td>0</td>\n",
       "      <td>0</td>\n",
       "      <td>0</td>\n",
       "      <td>324</td>\n",
       "      <td>0.682099</td>\n",
       "    </tr>\n",
       "  </tbody>\n",
       "</table>\n",
       "<p>6167 rows × 29 columns</p>\n",
       "</div>"
      ],
      "text/plain": [
       "                                                   name release_date  english  \\\n",
       "appid                                                                           \n",
       "10                                       Counter-Strike   2000-11-01        1   \n",
       "20                                Team Fortress Classic   1999-04-01        1   \n",
       "30                                        Day of Defeat   2003-05-01        1   \n",
       "40                                   Deathmatch Classic   2001-06-01        1   \n",
       "50                            Half-Life: Opposing Force   1999-11-01        1   \n",
       "...                                                 ...          ...      ...   \n",
       "1020340                                          Audica   2019-03-07        1   \n",
       "1020820                           KumaKuma Manga Editor   2019-02-27        1   \n",
       "1031480  東方幕華祭 春雪篇 ～ Fantastic Danmaku Festival Part II   2019-03-18        1   \n",
       "1043180                                Lovers of Aether   2019-04-01        1   \n",
       "1051310                  Paper Dolls: Original / 纸人：第一章   2019-04-19        1   \n",
       "\n",
       "                                      developer                    publisher  \\\n",
       "appid                                                                          \n",
       "10                                        Valve                        Valve   \n",
       "20                                        Valve                        Valve   \n",
       "30                                        Valve                        Valve   \n",
       "40                                        Valve                        Valve   \n",
       "50                             Gearbox Software                        Valve   \n",
       "...                                         ...                          ...   \n",
       "1020340             Harmonix Music Systems, Inc  Harmonix Music Systems, Inc   \n",
       "1020820                           KumaKumaManga                   SakuraGame   \n",
       "1031480                                东方幕华祭制作组                     东方幕华祭制作组   \n",
       "1043180                             Dan Fornace                  Dan Fornace   \n",
       "1051310  Beijing Litchi Culture Media Co., Ltd.                  Gamera Game   \n",
       "\n",
       "                 platforms  required_age  \\\n",
       "appid                                      \n",
       "10       windows;mac;linux             0   \n",
       "20       windows;mac;linux             0   \n",
       "30       windows;mac;linux             0   \n",
       "40       windows;mac;linux             0   \n",
       "50       windows;mac;linux             0   \n",
       "...                    ...           ...   \n",
       "1020340            windows             0   \n",
       "1020820            windows             0   \n",
       "1031480            windows             0   \n",
       "1043180        windows;mac             0   \n",
       "1051310            windows             0   \n",
       "\n",
       "                                                categories  \\\n",
       "appid                                                        \n",
       "10       Multi-player;Online Multi-Player;Local Multi-P...   \n",
       "20       Multi-player;Online Multi-Player;Local Multi-P...   \n",
       "30                   Multi-player;Valve Anti-Cheat enabled   \n",
       "40       Multi-player;Online Multi-Player;Local Multi-P...   \n",
       "50       Single-player;Multi-player;Valve Anti-Cheat en...   \n",
       "...                                                    ...   \n",
       "1020340                                      Single-player   \n",
       "1020820                                 Steam Achievements   \n",
       "1031480  Single-player;Steam Achievements;Partial Contr...   \n",
       "1043180                          Single-player;Steam Cloud   \n",
       "1051310  Single-player;Steam Achievements;Full controll...   \n",
       "\n",
       "                                                    genres  \\\n",
       "appid                                                        \n",
       "10                                                  Action   \n",
       "20                                                  Action   \n",
       "30                                                  Action   \n",
       "40                                                  Action   \n",
       "50                                                  Action   \n",
       "...                                                    ...   \n",
       "1020340                          Action;Indie;Early Access   \n",
       "1020820  Animation & Modeling;Design & Illustration;Web...   \n",
       "1031480                                              Indie   \n",
       "1043180                            Casual;Indie;Simulation   \n",
       "1051310                             Action;Adventure;Indie   \n",
       "\n",
       "                                             steamspy_tags  ...  casual  \\\n",
       "appid                                                       ...           \n",
       "10                                  Action;FPS;Multiplayer  ...       0   \n",
       "20                                  Action;FPS;Multiplayer  ...       0   \n",
       "30                            FPS;World War II;Multiplayer  ...       0   \n",
       "40                                  Action;FPS;Multiplayer  ...       0   \n",
       "50                                       FPS;Action;Sci-fi  ...       0   \n",
       "...                                                    ...  ...     ...   \n",
       "1020340                          Early Access;Rhythm;Music  ...       0   \n",
       "1020820  Design & Illustration;Web Publishing;Animation...  ...       0   \n",
       "1031480                            Indie;Bullet Hell;Faith  ...       0   \n",
       "1043180             Psychological Horror;Dating Sim;Casual  ...       1   \n",
       "1051310                             Adventure;Action;Indie  ...       0   \n",
       "\n",
       "         indie  massively_multiplayer  rpg  racing  simulation  sports  \\\n",
       "appid                                                                    \n",
       "10           0                      0    0       0           0       0   \n",
       "20           0                      0    0       0           0       0   \n",
       "30           0                      0    0       0           0       0   \n",
       "40           0                      0    0       0           0       0   \n",
       "50           0                      0    0       0           0       0   \n",
       "...        ...                    ...  ...     ...         ...     ...   \n",
       "1020340      1                      0    0       0           0       0   \n",
       "1020820      0                      0    0       0           0       0   \n",
       "1031480      1                      0    0       0           0       0   \n",
       "1043180      1                      0    0       0           1       0   \n",
       "1051310      1                      0    0       0           0       0   \n",
       "\n",
       "         strategy  total_ratings  rating_ratio  \n",
       "appid                                           \n",
       "10              0         127873      0.973888  \n",
       "20              0           3951      0.839787  \n",
       "30              0           3814      0.895648  \n",
       "40              0           1540      0.826623  \n",
       "50              0           5538      0.947996  \n",
       "...           ...            ...           ...  \n",
       "1020340         0            166      0.795181  \n",
       "1020820         0            387      0.894057  \n",
       "1031480         0            638      0.970219  \n",
       "1043180         0            680      0.957353  \n",
       "1051310         0            324      0.682099  \n",
       "\n",
       "[6167 rows x 29 columns]"
      ]
     },
     "execution_count": 41,
     "metadata": {},
     "output_type": "execute_result"
    }
   ],
   "source": [
    "steam_df[steam_df['positive_ratings'] >= 1]"
   ]
  },
  {
   "cell_type": "markdown",
   "metadata": {},
   "source": [
    "Then, just like before, we group the games with positive ratings per genre."
   ]
  },
  {
   "cell_type": "code",
   "execution_count": 42,
   "metadata": {},
   "outputs": [
    {
     "data": {
      "text/plain": [
       "action                   18312377\n",
       "adventure                 8209687\n",
       "casual                    2458773\n",
       "indie                     9627297\n",
       "massively_multiplayer     2465064\n",
       "rpg                       5528542\n",
       "racing                     623987\n",
       "simulation                3966918\n",
       "sports                     623980\n",
       "strategy                  4248376\n",
       "dtype: int64"
      ]
     },
     "execution_count": 42,
     "metadata": {},
     "output_type": "execute_result"
    }
   ],
   "source": [
    "positive_ratings_per_genre = []\n",
    "\n",
    "for genre in genres:\n",
    "    positive_ratings_per_genre.append(steam_df[steam_df[genre] == 1]['positive_ratings'].sum())\n",
    "\n",
    "positive_ratings_per_genre = pd.Series(index=genres, data=positive_ratings_per_genre)\n",
    "positive_ratings_per_genre"
   ]
  },
  {
   "cell_type": "code",
   "execution_count": 43,
   "metadata": {},
   "outputs": [
    {
     "data": {
      "text/plain": [
       "Text(0.5, 0, 'Genres')"
      ]
     },
     "execution_count": 43,
     "metadata": {},
     "output_type": "execute_result"
    },
    {
     "data": {
      "image/png": "[encoded data removed]",
      "text/plain": [
       "<Figure size 432x288 with 1 Axes>"
      ]
     },
     "metadata": {
      "needs_background": "light"
     },
     "output_type": "display_data"
    }
   ],
   "source": [
    "positive_ratings_per_genre.plot(kind='bar')\n",
    "plt.ylabel('Total number of positive ratings')\n",
    "plt.xlabel('Genres')"
   ]
  },
  {
   "cell_type": "markdown",
   "metadata": {},
   "source": [
    "The bar plot reflected that the genre with the most number of `positive_ratings` is the `Action` genre games, while the ones with lowest `positive_ratings` are both `Racing` games and `Sports` games with only a difference of `7` ratings. `Action` genre games was followed by `Indie` games and `Adventure` games. "
   ]
  },
  {
   "cell_type": "markdown",
   "metadata": {},
   "source": [
    "## Insights and Conclusion\n",
    "The Steam Games dataset contains plenty of entries or data to perform data analysis with. The dataset is recent and it contains plenty of columns that allows a variety of analysis. The dataset also uses the official API for steam, which allows the dataset to be extended or concatenated with other SteamSpy datasets. \n"
   ]
  },
  {
   "cell_type": "markdown",
   "metadata": {},
   "source": [
    "Using the Steam Store games dataset merged with the steam tags dataset, our team was able to create a content-based recommender system. A content-based recommender system is extremely important for vendors like steam. This allows the company to earn more money through recommendations based on a user's preferences. "
   ]
  },
  {
   "cell_type": "markdown",
   "metadata": {},
   "source": [
    "Our team was also able to learn which is the highest rated genre, and the most played genre. The dataset contained enough data to answer the questions. `Indie` was the highest rated genre, and the most played genre. `Indie` is also the genre that contains the most number of games. It may seem like `Indie` being the most played genre is highly correlated to it being a genre that contains the most games, but since it is the highest rated genre as well, ratio-wise, it proves that it really does have good hours in every owner's library."
   ]
  }
 ],
 "metadata": {
  "kernelspec": {
   "display_name": "Python 3",
   "language": "python",
   "name": "python3"
  },
  "language_info": {
   "codemirror_mode": {
    "name": "ipython",
    "version": 3
   },
   "file_extension": ".py",
   "mimetype": "text/x-python",
   "name": "python",
   "nbconvert_exporter": "python",
   "pygments_lexer": "ipython3",
   "version": "3.7.6"
  }
 },
 "nbformat": 4,
 "nbformat_minor": 2
}
