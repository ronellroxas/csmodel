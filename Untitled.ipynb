{
 "cells": [
  {
   "cell_type": "markdown",
   "metadata": {},
   "source": [
    "# Case Study on Steam Store Games Dataset\n",
    "This notebook explores the Steam Store Games datasend found on [Kaggle](https://www.kaggle.com/nikdavis/steam-store-games?select=steam.csv). This notebook performs Exploratory Data Analysis on the dataset.\n",
    "\n",
    "#### CSMODEL - S14\n",
    "\n",
    "#### Team Members\n",
    "- Roxas, Ronell John\n",
    "- Oliquino, Alfred\n",
    "- Tiburcio, Marc Nelsito\n",
    "\n",
    "#### Professor\n",
    "- Tiam-Lee, Thomas James\n",
    "\n",
    "#### Date Submitted \n",
    "- September XX 2020"
   ]
  },
  {
   "cell_type": "markdown",
   "metadata": {},
   "source": [
    "## 1. Data Description\n",
    "--"
   ]
  },
  {
   "cell_type": "markdown",
   "metadata": {},
   "source": [
    "## 2. Exploratory Data Analysis\n",
    "Importing the libraries."
   ]
  },
  {
   "cell_type": "code",
   "execution_count": 90,
   "metadata": {},
   "outputs": [],
   "source": [
    "import numpy as np\n",
    "import pandas as pd\n",
    "import matplotlib.pyplot as plt"
   ]
  },
  {
   "cell_type": "markdown",
   "metadata": {},
   "source": [
    "Importing the dataset."
   ]
  },
  {
   "cell_type": "code",
   "execution_count": 5,
   "metadata": {},
   "outputs": [],
   "source": [
    "steam_df = pd.read_csv(\"dataset/steam.csv\")"
   ]
  },
  {
   "cell_type": "markdown",
   "metadata": {},
   "source": [
    "Checking the general information of the dataset."
   ]
  },
  {
   "cell_type": "code",
   "execution_count": 6,
   "metadata": {},
   "outputs": [
    {
     "name": "stdout",
     "output_type": "stream",
     "text": [
      "<class 'pandas.core.frame.DataFrame'>\n",
      "RangeIndex: 27075 entries, 0 to 27074\n",
      "Data columns (total 18 columns):\n",
      "appid               27075 non-null int64\n",
      "name                27075 non-null object\n",
      "release_date        27075 non-null object\n",
      "english             27075 non-null int64\n",
      "developer           27075 non-null object\n",
      "publisher           27075 non-null object\n",
      "platforms           27075 non-null object\n",
      "required_age        27075 non-null int64\n",
      "categories          27075 non-null object\n",
      "genres              27075 non-null object\n",
      "steamspy_tags       27075 non-null object\n",
      "achievements        27075 non-null int64\n",
      "positive_ratings    27075 non-null int64\n",
      "negative_ratings    27075 non-null int64\n",
      "average_playtime    27075 non-null int64\n",
      "median_playtime     27075 non-null int64\n",
      "owners              27075 non-null object\n",
      "price               27075 non-null float64\n",
      "dtypes: float64(1), int64(8), object(9)\n",
      "memory usage: 3.7+ MB\n"
     ]
    }
   ],
   "source": [
    "steam_df.info()"
   ]
  },
  {
   "cell_type": "markdown",
   "metadata": {},
   "source": [
    "### 2.1 Cleaning the Dataset\n",
    "This section will verify if the dataset contains any errors in the values. Some error include null values or invalid values each column."
   ]
  },
  {
   "cell_type": "markdown",
   "metadata": {},
   "source": [
    "Checking for null values."
   ]
  },
  {
   "cell_type": "code",
   "execution_count": 7,
   "metadata": {},
   "outputs": [
    {
     "data": {
      "text/plain": [
       "appid               False\n",
       "name                False\n",
       "release_date        False\n",
       "english             False\n",
       "developer           False\n",
       "publisher           False\n",
       "platforms           False\n",
       "required_age        False\n",
       "categories          False\n",
       "genres              False\n",
       "steamspy_tags       False\n",
       "achievements        False\n",
       "positive_ratings    False\n",
       "negative_ratings    False\n",
       "average_playtime    False\n",
       "median_playtime     False\n",
       "owners              False\n",
       "price               False\n",
       "dtype: bool"
      ]
     },
     "execution_count": 7,
     "metadata": {},
     "output_type": "execute_result"
    }
   ],
   "source": [
    "steam_df.isnull().any()"
   ]
  },
  {
   "cell_type": "markdown",
   "metadata": {},
   "source": [
    "There are no null values in the dataset. Now, we verify if the values in each column is valid.\n",
    "One benefit of doing this is to see if there are multiple unique entries that are similar and can be mapped or represented to a single representation for the entry. Another is to verify if there are invalid entries that are not in the valid range for the specific column."
   ]
  },
  {
   "cell_type": "code",
   "execution_count": 44,
   "metadata": {},
   "outputs": [
    {
     "data": {
      "text/plain": [
       "0"
      ]
     },
     "execution_count": 44,
     "metadata": {},
     "output_type": "execute_result"
    }
   ],
   "source": [
    "##steam_df['appid'].value_counts().apply(lambda x: x > 1).isin([True]).any()\n",
    "len(steam_df[steam_df.duplicated()])"
   ]
  },
  {
   "cell_type": "markdown",
   "metadata": {},
   "source": [
    "The code above verifies if there are any duplicates in the dataset. The code inside the len() function returns the duplicated entries in the dataset. Since it has 0 length, there are no duplicated entries in the dataset."
   ]
  },
  {
   "cell_type": "markdown",
   "metadata": {},
   "source": [
    "We can also adjust to code to verify if there are duplicates in columns that should only contain unique values, like `appid`."
   ]
  },
  {
   "cell_type": "code",
   "execution_count": 45,
   "metadata": {},
   "outputs": [
    {
     "data": {
      "text/plain": [
       "0"
      ]
     },
     "execution_count": 45,
     "metadata": {},
     "output_type": "execute_result"
    }
   ],
   "source": [
    "len(steam_df[steam_df['appid'].duplicated()])"
   ]
  },
  {
   "cell_type": "markdown",
   "metadata": {},
   "source": [
    "For the `release_date` column, we can verify if the values are within a valid range using the min() and max() functions."
   ]
  },
  {
   "cell_type": "code",
   "execution_count": 55,
   "metadata": {},
   "outputs": [
    {
     "name": "stdout",
     "output_type": "stream",
     "text": [
      "1997-06-30 to 2019-05-01\n"
     ]
    }
   ],
   "source": [
    "print(steam_df['release_date'].min() + \" to \" + steam_df['release_date'].max())"
   ]
  },
  {
   "cell_type": "markdown",
   "metadata": {},
   "source": [
    "After running the code above, it shows that the dates are within a valid range. None of it were released in the future."
   ]
  },
  {
   "cell_type": "markdown",
   "metadata": {},
   "source": [
    "The `english` column represents if the game is on english or not. This means the valid values in this column are boolean values. We can verify this using the unique() function."
   ]
  },
  {
   "cell_type": "code",
   "execution_count": 56,
   "metadata": {},
   "outputs": [
    {
     "data": {
      "text/plain": [
       "array([1, 0], dtype=int64)"
      ]
     },
     "execution_count": 56,
     "metadata": {},
     "output_type": "execute_result"
    }
   ],
   "source": [
    "steam_df['english'].unique()"
   ]
  },
  {
   "cell_type": "markdown",
   "metadata": {},
   "source": [
    "Since the code above returned 2 valid boolean values, the `english` column is clean as well."
   ]
  },
  {
   "cell_type": "markdown",
   "metadata": {},
   "source": [
    "For the `required_age` column, it should fit within a specific range as well."
   ]
  },
  {
   "cell_type": "code",
   "execution_count": 60,
   "metadata": {},
   "outputs": [
    {
     "data": {
      "text/plain": [
       "array([ 0, 18, 16, 12,  7,  3], dtype=int64)"
      ]
     },
     "execution_count": 60,
     "metadata": {},
     "output_type": "execute_result"
    }
   ],
   "source": [
    "steam_df['required_age'].unique()"
   ]
  },
  {
   "cell_type": "markdown",
   "metadata": {},
   "source": [
    "After running the code above, the values in the `required_age` column are valid. The 0 represents games that does not have any age restrictions."
   ]
  },
  {
   "cell_type": "markdown",
   "metadata": {},
   "source": [
    "For the `achievements` column, valid values should fit in a range that is 0 and above."
   ]
  },
  {
   "cell_type": "code",
   "execution_count": 72,
   "metadata": {},
   "outputs": [
    {
     "name": "stdout",
     "output_type": "stream",
     "text": [
      "0 to 9821\n"
     ]
    }
   ],
   "source": [
    "print(str(steam_df['achievements'].min()) + \" to \" + str(steam_df['achievements'].max()))"
   ]
  },
  {
   "cell_type": "markdown",
   "metadata": {},
   "source": [
    "The range above fits the `achievements` column. It means that the most steam achievements in a game is 9821."
   ]
  },
  {
   "cell_type": "markdown",
   "metadata": {},
   "source": [
    "The `positive_ratings`, `negative_ratings`, `average_playtime`, `median_playtime`, and `price` values must be within the range of 0 and above. Getting the upper limit is not necessary, since we know that the upper limit can be very high. This means we can just check if any of the columns have negative values."
   ]
  },
  {
   "cell_type": "code",
   "execution_count": 87,
   "metadata": {},
   "outputs": [
    {
     "data": {
      "text/plain": [
       "False"
      ]
     },
     "execution_count": 87,
     "metadata": {},
     "output_type": "execute_result"
    }
   ],
   "source": [
    "any((steam_df['positive_ratings'] < 0) & (steam_df['negative_ratings'] < 0) & (steam_df['average_playtime'] < 0) & (steam_df['median_playtime'] < 0) & (steam_df['price'] < 0))"
   ]
  },
  {
   "cell_type": "markdown",
   "metadata": {},
   "source": [
    "The code above checks for any negative values in the 5 columns, it returned False indicating that the values in these columns are valid."
   ]
  },
  {
   "cell_type": "markdown",
   "metadata": {},
   "source": [
    "The columns `name`, `developer`, `publisher`, `platforms`, `categories`, `genres`, and `steamspy_tags` can be left alone since we already checked for null values. The values in this columns can be duplicated multiple times as well so there is no need to verify. "
   ]
  },
  {
   "cell_type": "markdown",
   "metadata": {},
   "source": [
    "## 2.2 Visualizations"
   ]
  },
  {
   "cell_type": "markdown",
   "metadata": {},
   "source": [
    "Simple visualization of number games released for each genre."
   ]
  },
  {
   "cell_type": "markdown",
   "metadata": {},
   "source": [
    "First we extract every genre available from the `genres` column. The code below goes through each `genres` entry then splits the string to extract the genres. It then adds it to genres if it is not added yet."
   ]
  },
  {
   "cell_type": "code",
   "execution_count": 167,
   "metadata": {},
   "outputs": [
    {
     "data": {
      "text/plain": [
       "['Action',\n",
       " 'Free to Play',\n",
       " 'Strategy',\n",
       " 'Adventure',\n",
       " 'Indie',\n",
       " 'RPG',\n",
       " 'Animation & Modeling',\n",
       " 'Video Production',\n",
       " 'Casual',\n",
       " 'Simulation',\n",
       " 'Racing',\n",
       " 'Violent',\n",
       " 'Massively Multiplayer',\n",
       " 'Nudity',\n",
       " 'Sports',\n",
       " 'Early Access',\n",
       " 'Gore',\n",
       " 'Utilities',\n",
       " 'Design & Illustration',\n",
       " 'Web Publishing',\n",
       " 'Education',\n",
       " 'Software Training',\n",
       " 'Sexual Content',\n",
       " 'Audio Production',\n",
       " 'Game Development',\n",
       " 'Photo Editing',\n",
       " 'Accounting',\n",
       " 'Documentary',\n",
       " 'Tutorial']"
      ]
     },
     "execution_count": 167,
     "metadata": {},
     "output_type": "execute_result"
    }
   ],
   "source": [
    "genres = []\n",
    "for entry in steam_df['genres']:\n",
    "    entry_split = entry.split(';')\n",
    "    for genre in entry_split:\n",
    "        if genre not in genres:\n",
    "            genres.append(genre)\n",
    "genres"
   ]
  },
  {
   "cell_type": "markdown",
   "metadata": {},
   "source": [
    "Now we count the instances each genre appears per `genres` entry and save the sum."
   ]
  },
  {
   "cell_type": "code",
   "execution_count": 161,
   "metadata": {},
   "outputs": [
    {
     "data": {
      "text/plain": [
       "Action                   11903.0\n",
       "Free to Play              1704.0\n",
       "Strategy                  5247.0\n",
       "Adventure                10032.0\n",
       "Indie                    19421.0\n",
       "RPG                       4311.0\n",
       "Animation & Modeling        79.0\n",
       "Video Production            38.0\n",
       "Casual                   10210.0\n",
       "Simulation                5194.0\n",
       "Racing                    1024.0\n",
       "Violent                    843.0\n",
       "Massively Multiplayer      723.0\n",
       "Nudity                     266.0\n",
       "Sports                    1322.0\n",
       "Early Access              2954.0\n",
       "Gore                       537.0\n",
       "Utilities                  146.0\n",
       "Design & Illustration       87.0\n",
       "Web Publishing              28.0\n",
       "Education                   51.0\n",
       "Software Training           31.0\n",
       "Sexual Content             245.0\n",
       "Audio Production            29.0\n",
       "Game Development            17.0\n",
       "Photo Editing               12.0\n",
       "Accounting                   6.0\n",
       "Documentary                  1.0\n",
       "Tutorial                     1.0\n",
       "dtype: float64"
      ]
     },
     "execution_count": 161,
     "metadata": {},
     "output_type": "execute_result"
    }
   ],
   "source": [
    "genre_count = pd.Series(index = genres)\n",
    "for i in range(len(genres)):\n",
    "    sum = 0\n",
    "    for entry in steam_df['genres']:\n",
    "        if entry.find(genres[i]) >= 0:\n",
    "            sum += 1\n",
    "    genre_count[i] = sum\n",
    "genre_count"
   ]
  },
  {
   "cell_type": "code",
   "execution_count": 166,
   "metadata": {},
   "outputs": [
    {
     "data": {
      "text/plain": [
       "Text(0.5, 1.0, 'Bar plot of number of games released in the genre')"
      ]
     },
     "execution_count": 166,
     "metadata": {},
     "output_type": "execute_result"
    },
    {
     "data": {
      "image/png": "[encoded data removed]",
      "text/plain": [
       "<Figure size 432x288 with 1 Axes>"
      ]
     },
     "metadata": {
      "needs_background": "light"
     },
     "output_type": "display_data"
    }
   ],
   "source": [
    "genre_count.plot.bar()\n",
    "plt.xlabel('Genre')\n",
    "plt.ylabel('Count')\n",
    "plt.title('Bar plot of number of games released in the genre')"
   ]
  },
  {
   "cell_type": "markdown",
   "metadata": {},
   "source": [
    "In the bar graph above, we can see that Indie games are the most published steam games."
   ]
  },
  {
   "cell_type": "code",
   "execution_count": null,
   "metadata": {},
   "outputs": [],
   "source": []
  }
 ],
 "metadata": {
  "kernelspec": {
   "display_name": "Python 3",
   "language": "python",
   "name": "python3"
  },
  "language_info": {
   "codemirror_mode": {
    "name": "ipython",
    "version": 3
   },
   "file_extension": ".py",
   "mimetype": "text/x-python",
   "name": "python",
   "nbconvert_exporter": "python",
   "pygments_lexer": "ipython3",
   "version": "3.7.3"
  }
 },
 "nbformat": 4,
 "nbformat_minor": 2
}
